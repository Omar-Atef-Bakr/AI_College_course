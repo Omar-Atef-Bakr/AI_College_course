{
 "cells": [
  {
   "cell_type": "code",
   "execution_count": 1,
   "id": "680e31930d188c8c",
   "metadata": {
    "ExecuteTime": {
     "end_time": "2023-10-23T01:54:03.690447876Z",
     "start_time": "2023-10-23T01:54:03.481424811Z"
    },
    "collapsed": false
   },
   "outputs": [
    {
     "name": "stdout",
     "output_type": "stream",
     "text": [
      "pygame 2.5.2 (SDL 2.28.3, Python 3.11.3)\n",
      "Hello from the pygame community. https://www.pygame.org/contribute.html\n"
     ]
    }
   ],
   "source": [
    "# %pip install pygame\n",
    "import copy \n",
    "import pygame\n",
    "import threading\n",
    "import time"
   ]
  },
  {
   "cell_type": "markdown",
   "id": "fcb3dac1eb177059",
   "metadata": {
    "collapsed": false
   },
   "source": [
    "# Visualize the game state"
   ]
  },
  {
   "cell_type": "code",
   "execution_count": 2,
   "id": "9696943ac6fa63a2",
   "metadata": {
    "ExecuteTime": {
     "end_time": "2023-10-23T01:54:03.984156855Z",
     "start_time": "2023-10-23T01:54:03.733823338Z"
    },
    "collapsed": false
   },
   "outputs": [],
   "source": [
    "# Define puzzle board dimensions and colors\n",
    "WINDOW_SIZE = 300\n",
    "GRID_SIZE = 3\n",
    "GRID_WIDTH = WINDOW_SIZE // GRID_SIZE\n",
    "WHITE = (255, 255, 255)\n",
    "BLACK = (0, 0, 0)\n",
    "\n",
    "current_puzzle = None\n",
    "\n",
    "def draw_grid(screen):\n",
    "    for i in range(1, GRID_SIZE):\n",
    "        pygame.draw.line(screen, BLACK, (i * GRID_WIDTH, 0), (i * GRID_WIDTH, WINDOW_SIZE))\n",
    "        pygame.draw.line(screen, BLACK, (0, i * GRID_WIDTH), (WINDOW_SIZE, i * GRID_WIDTH))\n",
    "\n",
    "# def draw_puzzle(screen, puzzle):\n",
    "#     font = pygame.font.Font(None, 36)\n",
    "#     for row in range(GRID_SIZE):\n",
    "#         for col in range(GRID_SIZE):\n",
    "#             cell_value = puzzle[row][col]\n",
    "#             if cell_value != 0:\n",
    "#                 cell_text = font.render(str(cell_value), True, BLACK)\n",
    "#                 cell_rect = cell_text.get_rect(center=(col * GRID_WIDTH + GRID_WIDTH // 2, row * GRID_WIDTH + GRID_WIDTH // 2))\n",
    "#                 screen.blit(cell_text, cell_rect)\n",
    "\n",
    "\n",
    "def draw_puzzle(screen, puzzle):\n",
    "    font = pygame.font.Font(None, 36)\n",
    "    for i in range(GRID_SIZE * GRID_SIZE):\n",
    "        cell_value = puzzle[i]\n",
    "        if cell_value != 0:\n",
    "            row = i // GRID_SIZE\n",
    "            col = i % GRID_SIZE\n",
    "            cell_text = font.render(str(cell_value), True, BLACK)\n",
    "            cell_rect = cell_text.get_rect(center=(col * GRID_WIDTH + GRID_WIDTH // 2, row * GRID_WIDTH + GRID_WIDTH // 2))\n",
    "            screen.blit(cell_text, cell_rect)\n",
    "\n",
    "\n",
    "\n",
    "\n",
    "def visualize_puzzle(puzzle):\n",
    "    # if a node is sent instead of a state get hold of the state instead\n",
    "    if isinstance(puzzle, Node):\n",
    "        puzzle = puzzle.get_state()\n",
    "        \n",
    "    global current_puzzle\n",
    "    current_puzzle = puzzle\n",
    "\n",
    "def visualize_path(path):\n",
    "    for puzzle in path:\n",
    "        visualize_puzzle(puzzle)\n",
    "        time.sleep(1)\n",
    "\n",
    "def puzzle_thread():\n",
    "    pygame.init()\n",
    "    screen = pygame.display.set_mode((WINDOW_SIZE, WINDOW_SIZE))\n",
    "    pygame.display.set_caption('8-Puzzle Visualization')\n",
    "\n",
    "    while True:\n",
    "        for event in pygame.event.get():\n",
    "            if event.type == pygame.QUIT:\n",
    "                pygame.quit()\n",
    "                return\n",
    "\n",
    "        if current_puzzle is not None:\n",
    "            screen.fill(WHITE)\n",
    "            draw_grid(screen)\n",
    "            draw_puzzle(screen, current_puzzle)\n",
    "            pygame.display.flip()\n",
    "\n",
    "def start_puzzle_thread():\n",
    "    thread = threading.Thread(target=puzzle_thread)\n",
    "    thread.daemon = True\n",
    "    thread.start()\n",
    "\n",
    "def stop_puzzle_thread():\n",
    "    pygame.quit()\n",
    "\n",
    "start_puzzle_thread()"
   ]
  },
  {
   "cell_type": "markdown",
   "id": "8576f076fc55903e",
   "metadata": {
    "collapsed": false
   },
   "source": [
    "# Check if a puzzle is solvable"
   ]
  },
  {
   "cell_type": "code",
   "execution_count": 3,
   "id": "f4f3dd591f08f9ab",
   "metadata": {
    "ExecuteTime": {
     "end_time": "2023-10-23T02:30:24.180304178Z",
     "start_time": "2023-10-23T02:30:24.136014947Z"
    },
    "collapsed": false
   },
   "outputs": [],
   "source": [
    "# def is_solvable(puzzle):\n",
    "#     inversions = 0\n",
    "#     # rows\n",
    "#     for i in range(len(puzzle)):\n",
    "#         # columns\n",
    "#         for j in range(len(puzzle)):\n",
    "#             # compare with all elements after the current element\n",
    "#             for k in range(i, len(puzzle)):\n",
    "#                 start = 0\n",
    "#                 # if the current row is the same as the current element, start from the next column\n",
    "#                 if k == i:\n",
    "#                     start = j + 1\n",
    "#                 # compare with all elements in the row\n",
    "#                 for l in range(start, len(puzzle)):\n",
    "#                     if puzzle[i][j] != 0 and puzzle[k][l] != 0 and puzzle[i][j] > puzzle[k][l]:\n",
    "#                         inversions += 1\n",
    "#     return inversions % 2 == 0"
   ]
  },
  {
   "cell_type": "code",
   "execution_count": 4,
   "metadata": {},
   "outputs": [],
   "source": [
    "def is_solvable(puzzle):\n",
    "    inversions = 0\n",
    "    for i in range(len(puzzle)):\n",
    "        for j in range(i + 1, len(puzzle)):\n",
    "            if puzzle[i] != 0 and puzzle[j] != 0 and puzzle[i] > puzzle[j]:\n",
    "                inversions += 1\n",
    "    return inversions % 2 == 0\n"
   ]
  },
  {
   "cell_type": "code",
   "execution_count": 5,
   "metadata": {},
   "outputs": [
    {
     "name": "stdout",
     "output_type": "stream",
     "text": [
      "Puzzle 1 is solvable: True\n",
      "Puzzle 2 is solvable: False\n"
     ]
    }
   ],
   "source": [
    "# Test\n",
    "puzzle1 = [1, 2, 3, 4, 5, 6, 7, 8, 0]\n",
    "puzzle2 = [1, 2, 3, 4, 5, 6, 8, 7, 0]\n",
    "\n",
    "print(\"Puzzle 1 is solvable:\", is_solvable(puzzle1))  # Output: True\n",
    "print(\"Puzzle 2 is solvable:\", is_solvable(puzzle2))  # Output: False\n"
   ]
  },
  {
   "cell_type": "markdown",
   "id": "a013ae7026d5ea27",
   "metadata": {
    "collapsed": false
   },
   "source": [
    "# Graph implementation"
   ]
  },
  {
   "cell_type": "code",
   "execution_count": 6,
   "id": "79f83993aa119c4",
   "metadata": {
    "ExecuteTime": {
     "end_time": "2023-10-23T02:47:04.726639091Z",
     "start_time": "2023-10-23T02:47:04.669595482Z"
    },
    "collapsed": false
   },
   "outputs": [],
   "source": [
    "def myPrint(string):\n",
    "    pass"
   ]
  },
  {
   "cell_type": "code",
   "execution_count": 7,
   "id": "425d20d076d6b695",
   "metadata": {
    "ExecuteTime": {
     "end_time": "2023-10-23T02:47:07.600590287Z",
     "start_time": "2023-10-23T02:47:07.545816844Z"
    },
    "collapsed": false
   },
   "outputs": [],
   "source": [
    "class Node:\n",
    "    \n",
    "    GRID_SIZE = 3\n",
    "    \n",
    "    def __init__(self, state):\n",
    "        self.__state = copy.deepcopy(state)\n",
    "        self.__parent = None\n",
    "        self.__path = []\n",
    "        self.__children = []\n",
    "        self.__generate_children()            \n",
    "    \n",
    "    # # generates all possible moves\n",
    "    # def __generate_children(self):\n",
    "    #     self.__children = []\n",
    "    #     for i in range(self.GRID_SIZE):\n",
    "    #         for j in range(self.GRID_SIZE):\n",
    "    #             if self.__state[i][j] == 0:\n",
    "    #                 if i > 0:\n",
    "    #                     self.__children.append(self.swap(i, j, i - 1, j))\n",
    "    #                 if i < self.GRID_SIZE - 1:\n",
    "    #                     self.__children.append(self.swap(i, j, i + 1, j))\n",
    "    #                 if j > 0:\n",
    "    #                     self.__children.append(self.swap(i, j, i, j - 1))\n",
    "    #                 if j < self.GRID_SIZE - 1:\n",
    "    #                     self.__children.append(self.swap(i, j, i, j + 1))\n",
    "    #                 return self.__children\n",
    "        \n",
    "    \n",
    "    # # returns a state one move from the current state\n",
    "    # def swap(self, x1, y1, x2, y2):\n",
    "    #     new_state = copy.deepcopy(self.__state)\n",
    "    #     new_state[x1][y1], new_state[x2][y2] = new_state[x2][y2], new_state[x1][y1] \n",
    "    #     return new_state\n",
    "    \n",
    "\n",
    "    # Generates all possible moves\n",
    "    def __generate_children(self):\n",
    "        self.__children = []\n",
    "        zero_index = self.__state.index(0)\n",
    "        row, col = zero_index // self.GRID_SIZE, zero_index % self.GRID_SIZE\n",
    "\n",
    "        possible_moves = [(row - 1, col), (row + 1, col), (row, col - 1), (row, col + 1)]\n",
    "\n",
    "        for move in possible_moves:\n",
    "            new_row, new_col = move\n",
    "            if 0 <= new_row < self.GRID_SIZE and 0 <= new_col < self.GRID_SIZE:\n",
    "                new_state = self.swap(zero_index, new_row * self.GRID_SIZE + new_col)\n",
    "                self.__children.append(new_state)\n",
    "        return self.__children\n",
    "\n",
    "    # Swaps two elements in the state array\n",
    "    def swap(self, idx1, idx2):\n",
    "        new_state = self.__state[:]\n",
    "        new_state[idx1], new_state[idx2] = new_state[idx2], new_state[idx1]\n",
    "        return new_state\n",
    "\n",
    "\n",
    "   \n",
    "    def __str__(self):\n",
    "        return str(self.__state)    \n",
    "        \n",
    "    def __repr__(self):\n",
    "        return str(self.__state)\n",
    "    \n",
    "    def set_parent(self, parent):\n",
    "        self.__parent = parent\n",
    "        self.__path = parent.get_path()\n",
    "        self.__path.append(parent)\n",
    "    \n",
    "    def get_path(self):\n",
    "        return copy.copy(self.__path)\n",
    "    \n",
    "    def get_state(self):\n",
    "        return copy.deepcopy(self.__state)\n",
    "    \n",
    "    def get_children(self):\n",
    "        return copy.deepcopy(self.__children)\n",
    "    \n",
    "    def get_parent(self):\n",
    "        return self.__parent"
   ]
  },
  {
   "cell_type": "code",
   "execution_count": 8,
   "metadata": {},
   "outputs": [
    {
     "name": "stdout",
     "output_type": "stream",
     "text": [
      "[[1, 0, 3, 4, 2, 5, 6, 7, 8], [1, 2, 3, 4, 7, 5, 6, 0, 8], [1, 2, 3, 0, 4, 5, 6, 7, 8], [1, 2, 3, 4, 5, 0, 6, 7, 8]]\n"
     ]
    }
   ],
   "source": [
    "# Example usage:\n",
    "initial_state = [1, 2, 3, 4, 0, 5, 6, 7, 8]\n",
    "puzzle = Node(initial_state)\n",
    "children = puzzle._Node__generate_children()\n",
    "print(children)\n",
    "visualize_puzzle(puzzle)"
   ]
  },
  {
   "cell_type": "markdown",
   "id": "6be61a681aae688c",
   "metadata": {
    "collapsed": false
   },
   "source": [
    "# BFS"
   ]
  },
  {
   "cell_type": "code",
   "execution_count": 25,
   "id": "7bfe8b026bb67a7b",
   "metadata": {
    "ExecuteTime": {
     "end_time": "2023-10-23T03:19:07.438878228Z",
     "start_time": "2023-10-23T03:19:07.425389899Z"
    },
    "collapsed": false
   },
   "outputs": [],
   "source": [
    "# def BFS(node, target, max_nodes=10000):\n",
    "    \n",
    "#     if not is_solvable(node.get_state()):\n",
    "#         print(\"NOT SOLVABLE\")\n",
    "#         return [],0\n",
    "    \n",
    "#     queue = [node]\n",
    "#     visited = []\n",
    "#     while queue:\n",
    "#         current_node = queue.pop(0)\n",
    "#         current_state = current_node.get_state()\n",
    "#         visited.append(current_state)\n",
    "        \n",
    "#         if current_state == target:\n",
    "#             final_path = current_node.get_path()\n",
    "#             final_path.append(current_node)\n",
    "#             return final_path, len(visited)\n",
    "        \n",
    "#         if len(visited) % 1000 == 0:\n",
    "#             myPrint(f'visited nodes: {len(visited)}, queue size: {len(queue)}')\n",
    "#             if len(visited) >= max_nodes:\n",
    "#                 print(\"MAX LIMIT\")\n",
    "#                 return [],0\n",
    "        \n",
    "#         for child in current_node.get_children():\n",
    "#             if child not in visited:\n",
    "#                 child = Node(child)\n",
    "#                 child.set_parent(current_node)\n",
    "#                 queue.append(child)\n",
    "#     return [],0\n",
    "\n",
    "\n",
    "\n",
    "def BFS(node, target, max_nodes=15000):\n",
    "    if not is_solvable(node.get_state()):\n",
    "        print(\"NOT SOLVABLE\")\n",
    "        return [], 0\n",
    "    \n",
    "    queue = [node]\n",
    "    visited = []\n",
    "    while queue:\n",
    "        current_node = queue.pop(0)\n",
    "        current_state = current_node.get_state()\n",
    "        visited.append(current_state)\n",
    "        \n",
    "        if current_state == target:\n",
    "            final_path = current_node.get_path()\n",
    "            final_path.append(current_node)\n",
    "            return final_path, len(visited)\n",
    "        \n",
    "        if len(visited) % 1000 == 0:\n",
    "            print(f'Visited nodes: {len(visited)}, Queue size: {len(queue)}')\n",
    "            if len(visited) >= max_nodes:\n",
    "                print(\"MAX LIMIT\")\n",
    "                return [], 0\n",
    "        \n",
    "        for child_state in current_node.get_children():\n",
    "            if child_state not in visited:\n",
    "                child_node = Node(child_state)\n",
    "                child_node.parent = current_node\n",
    "                queue.append(child_node)\n",
    "    return [], 0\n"
   ]
  },
  {
   "cell_type": "code",
   "execution_count": 23,
   "id": "89e316e34d3c1bcf",
   "metadata": {
    "collapsed": false
   },
   "outputs": [],
   "source": [
    "target = [0, 1, 2, 3, 4, 5, 6, 7, 8]\n",
    "\n",
    "puzzle1 = [7, 0, 2, 8, 5, 3, 6, 1, 4]\n",
    "\n",
    "node = Node(puzzle1)\n",
    "visualize_puzzle(node)"
   ]
  },
  {
   "cell_type": "code",
   "execution_count": 26,
   "id": "5379bded18706dd5",
   "metadata": {
    "ExecuteTime": {
     "end_time": "2023-10-23T02:23:54.840224129Z",
     "start_time": "2023-10-23T02:17:46.237574023Z"
    },
    "collapsed": false
   },
   "outputs": [
    {
     "name": "stdout",
     "output_type": "stream",
     "text": [
      "Visited nodes: 1000, Queue size: 652\n",
      "Visited nodes: 2000, Queue size: 1344\n",
      "Visited nodes: 3000, Queue size: 1897\n",
      "Visited nodes: 4000, Queue size: 2326\n",
      "Visited nodes: 5000, Queue size: 3182\n",
      "Visited nodes: 6000, Queue size: 4068\n",
      "Visited nodes: 7000, Queue size: 4444\n",
      "Visited nodes: 8000, Queue size: 4791\n",
      "Visited nodes: 9000, Queue size: 5164\n",
      "Visited nodes: 10000, Queue size: 5537\n",
      "Visited nodes: 11000, Queue size: 6238\n",
      "Visited nodes: 12000, Queue size: 7050\n",
      "Visited nodes: 13000, Queue size: 7865\n",
      "Visited nodes: 14000, Queue size: 8674\n",
      "Visited nodes: 15000, Queue size: 9480\n",
      "MAX LIMIT\n"
     ]
    },
    {
     "data": {
      "text/plain": [
       "'visited nodes: 0, path length: 0, time taken: 10.005788087844849'"
      ]
     },
     "execution_count": 26,
     "metadata": {},
     "output_type": "execute_result"
    }
   ],
   "source": [
    "visualize_puzzle(node)\n",
    "t1 = time.time()\n",
    "path, nodes_visited = BFS(node, target)\n",
    "t2 = time.time()\n",
    "time_taken = t2 - t1\n",
    "f'visited nodes: {nodes_visited}, path length: {len(path)}, time taken: {time_taken}'"
   ]
  },
  {
   "cell_type": "code",
   "execution_count": null,
   "id": "47f81c20ff792aa1",
   "metadata": {
    "ExecuteTime": {
     "end_time": "2023-10-23T01:54:32.325272789Z",
     "start_time": "2023-10-23T01:54:27.315388152Z"
    },
    "collapsed": false
   },
   "outputs": [],
   "source": [
    "visualize_path(path)"
   ]
  },
  {
   "cell_type": "markdown",
   "id": "b09d97c4dd55be40",
   "metadata": {
    "collapsed": false
   },
   "source": [
    "# DFS"
   ]
  },
  {
   "cell_type": "code",
   "execution_count": null,
   "id": "be372ca149a6dfae",
   "metadata": {
    "ExecuteTime": {
     "end_time": "2023-10-23T03:19:10.026647592Z",
     "start_time": "2023-10-23T03:19:10.018387222Z"
    },
    "collapsed": false
   },
   "outputs": [],
   "source": [
    "def DFS(node, target, max_nodes=10000):\n",
    "    if not is_solvable(node.get_state()):\n",
    "        return None\n",
    "    \n",
    "    stack = [node]\n",
    "    visited = []\n",
    "    while stack:\n",
    "        current_node = stack.pop()\n",
    "        current_state = current_node.get_state()\n",
    "        visited.append(current_state)\n",
    "        \n",
    "        if current_state == target:\n",
    "            final_path = current_node.get_path()\n",
    "            final_path.append(current_node)\n",
    "            return final_path, len(visited)\n",
    "        \n",
    "        if len(visited) % 1000 == 0:\n",
    "            myPrint(f'visited nodes: {len(visited)}, stack size: {len(stack)}')\n",
    "            if len(visited) >= max_nodes:\n",
    "                return None\n",
    "            \n",
    "        for child in current_node.get_children():\n",
    "            if child not in visited:\n",
    "                child = Node(child)\n",
    "                child.set_parent(current_node)\n",
    "                stack.append(child)\n",
    "    return None"
   ]
  },
  {
   "cell_type": "code",
   "execution_count": null,
   "id": "a2ea3c99b0edc68c",
   "metadata": {
    "collapsed": false
   },
   "outputs": [],
   "source": [
    "target = [0, 1, 2, 3, 4, 5, 6, 7, 8]\n",
    "\n",
    "puzzle1 = [7, 0, 2, 8, 5, 3, 6, 1, 4]\n",
    "\n",
    "node = Node(puzzle1)\n",
    "visualize_puzzle(node)"
   ]
  },
  {
   "cell_type": "code",
   "execution_count": null,
   "id": "849e7302c12e106a",
   "metadata": {
    "ExecuteTime": {
     "end_time": "2023-10-23T02:14:48.348013553Z",
     "start_time": "2023-10-23T02:14:32.472060715Z"
    },
    "collapsed": false
   },
   "outputs": [],
   "source": [
    "if DFS(node, target) != None:\n",
    "    t1 = time.time()\n",
    "    path, nodes_visited = DFS(node, target)\n",
    "    t2 = time.time()\n",
    "    time_taken = t2 - t1\n",
    "\n",
    "    f'visited nodes: {nodes_visited}, path length: {len(path)}, time taken: {time_taken}'\n",
    "else :\n",
    "    print(\"Maximum depth reached\")"
   ]
  },
  {
   "cell_type": "code",
   "execution_count": null,
   "id": "558e4cd9f3d22626",
   "metadata": {
    "ExecuteTime": {
     "end_time": "2023-10-23T02:14:07.647758323Z",
     "start_time": "2023-10-23T02:11:54.742001774Z"
    },
    "collapsed": false
   },
   "outputs": [],
   "source": [
    "visualize_path(path)"
   ]
  },
  {
   "cell_type": "markdown",
   "id": "c2da9a192e7ac2df",
   "metadata": {
    "collapsed": false
   },
   "source": [
    "# A*"
   ]
  },
  {
   "cell_type": "code",
   "execution_count": null,
   "id": "44e0bc27bceef551",
   "metadata": {
    "ExecuteTime": {
     "end_time": "2023-10-23T01:54:52.972076137Z",
     "start_time": "2023-10-23T01:54:52.960666032Z"
    },
    "collapsed": false
   },
   "outputs": [],
   "source": [
    "import heapq"
   ]
  },
  {
   "cell_type": "code",
   "execution_count": null,
   "id": "5ad7dbf5577dabd6",
   "metadata": {
    "ExecuteTime": {
     "end_time": "2023-10-23T01:55:06.759063898Z",
     "start_time": "2023-10-23T01:55:06.757136686Z"
    },
    "collapsed": false
   },
   "outputs": [],
   "source": [
    "# def manhatten_estimate_cost(state):\n",
    "#     cost = 0\n",
    "#     for i in range(len(state)):\n",
    "#         for j in range(len(state)):\n",
    "#             value = state[i][j]\n",
    "#             if value != 0:\n",
    "#                 target_row, target_col = value // 3, value % 3\n",
    "#                 cost += abs(i - target_row) + abs(j - target_col)\n",
    "#     return cost\n",
    "\n",
    "\n",
    "def manhatten_estimate_cost(state):\n",
    "    cost = 0\n",
    "    for i in range(len(state)):\n",
    "        value = state[i]\n",
    "        if value != 0:\n",
    "            current_row, current_col = i // 3, i % 3\n",
    "            target_row, target_col = (value - 1) // 3, (value - 1) % 3\n",
    "            cost += abs(current_row - target_row) + abs(current_col - target_col)\n",
    "    return cost\n"
   ]
  },
  {
   "cell_type": "code",
   "execution_count": null,
   "id": "14634379fb6ec4ad",
   "metadata": {
    "ExecuteTime": {
     "end_time": "2023-10-23T01:55:07.624243644Z",
     "start_time": "2023-10-23T01:55:07.612349631Z"
    },
    "collapsed": false
   },
   "outputs": [],
   "source": [
    "# def eaclidean_estimate_cost(state):\n",
    "#     cost = 0\n",
    "#     for i in range(len(state)):\n",
    "#         for j in range(len(state)):\n",
    "#             value = state[i][j]\n",
    "#             if value != 0:\n",
    "#                 target_row, target_col = value // 3, value % 3\n",
    "#                 cost += ((i - target_row)**2 + (j - target_col)**2)**0.5\n",
    "#     return cost\n",
    "\n",
    "\n",
    "def euclidean_estimate_cost(state):\n",
    "    cost = 0\n",
    "    for i in range(len(state)):\n",
    "        if state[i] != 0:\n",
    "            current_row, current_col = i // 3, i % 3\n",
    "            target_row, target_col = (state[i] - 1) // 3, (state[i] - 1) % 3\n",
    "            cost += ((current_row - target_row) ** 2 + (current_col - target_col) ** 2) ** 0.5\n",
    "    return cost\n"
   ]
  },
  {
   "cell_type": "code",
   "execution_count": null,
   "id": "e7a1239ecd25251b",
   "metadata": {
    "ExecuteTime": {
     "end_time": "2023-10-23T03:36:26.721633198Z",
     "start_time": "2023-10-23T03:36:26.679272324Z"
    },
    "collapsed": false
   },
   "outputs": [],
   "source": [
    "def a_star(node, target, estimate_function=manhatten_estimate_cost, max_nodes=100000):\n",
    "    if not is_solvable(node.get_state()):\n",
    "        return None\n",
    "    \n",
    "    # Q values are tuples (weight, insert_order, node). insert order is used to break ties\n",
    "    queue = [(0, 0, node)]\n",
    "    \n",
    "    # Q inserts counter\n",
    "    i = 1\n",
    "    \n",
    "    visited = []\n",
    "    while queue:\n",
    "        \n",
    "        # pop the node with the lowest weight\n",
    "        current_node = heapq.heappop(queue)[-1]\n",
    "        current_state = current_node.get_state()\n",
    "        visited.append(current_state)\n",
    "        \n",
    "        # check if goal state is reached\n",
    "        if current_state == target:\n",
    "            final_path = current_node.get_path()\n",
    "            final_path.append(current_node)\n",
    "            return final_path, len(visited)\n",
    "        \n",
    "        if len(visited) % 1000 == 0:\n",
    "            myPrint(f'visited nodes: {len(visited)}, queue size: {len(queue)}')\n",
    "            if len(visited) >= max_nodes:\n",
    "                print(\"max nodes reached\")\n",
    "                return None\n",
    "        \n",
    "        for child in current_node.get_children():\n",
    "            if child not in visited:\n",
    "                child = Node(child)\n",
    "                child.set_parent(current_node)\n",
    "                \n",
    "                # calculate weight by adding the manhatten distance to goal and the path length\n",
    "                h_n = len(child.get_path())\n",
    "                g_n = manhatten_estimate_cost(child.get_state())\n",
    "                weight = h_n + g_n\n",
    "                \n",
    "                # push to priority queue\n",
    "                heapq.heappush(queue, (weight, i, child))\n",
    "                i+=1\n",
    "    return None"
   ]
  },
  {
   "cell_type": "code",
   "execution_count": null,
   "id": "4bd84c068dd4ba1e",
   "metadata": {
    "ExecuteTime": {
     "end_time": "2023-10-23T02:32:31.771470251Z",
     "start_time": "2023-10-23T02:32:31.763422668Z"
    },
    "collapsed": false
   },
   "outputs": [],
   "source": [
    "# target = [\n",
    "#     [0, 1, 2],\n",
    "#     [3, 4, 5],\n",
    "#     [6, 7, 8]\n",
    "# ]\n",
    "\n",
    "# puzzle1 = [\n",
    "#     [0, 1, 2],\n",
    "#     [5, 3, 4],\n",
    "#     [8, 6, 7]\n",
    "# ]\n",
    "\n",
    "target = [0, 1, 2, 3, 4, 5, 6, 7, 8]\n",
    "\n",
    "puzzle1 = [7, 0, 2, 8, 5, 3, 6, 1, 4]\n",
    "\n",
    "node = Node(puzzle1)\n",
    "visualize_puzzle(node)"
   ]
  },
  {
   "cell_type": "code",
   "execution_count": null,
   "id": "165381712bce06db",
   "metadata": {
    "ExecuteTime": {
     "end_time": "2023-10-23T03:33:44.719869102Z",
     "start_time": "2023-10-23T03:33:43.815546472Z"
    },
    "collapsed": false
   },
   "outputs": [],
   "source": [
    "t = time.time()\n",
    "path, visited_nodes = a_star(node, target, estimate_function=manhatten_estimate_cost)\n",
    "t2 = time.time()\n",
    "time_taken = t2 - t\n",
    "# visualize_path(path)\n",
    "f'visited nodes: {visited_nodes}, path length: {len(path)}, time taken: {time_taken}' "
   ]
  },
  {
   "cell_type": "code",
   "execution_count": null,
   "id": "ac362487814480ee",
   "metadata": {
    "ExecuteTime": {
     "end_time": "2023-10-23T02:32:59.150942015Z",
     "start_time": "2023-10-23T02:32:58.555383492Z"
    },
    "collapsed": false
   },
   "outputs": [],
   "source": [
    "t = time.time()\n",
    "path, visited_nodes = a_star(node, target, estimate_function=euclidean_estimate_cost)\n",
    "t2 = time.time()\n",
    "time_taken = t2 - t\n",
    "\n",
    "# visualize_path(path)\n",
    "f'visited nodes: {visited_nodes}, path length: {len(path)}, time taken: {time_taken}' "
   ]
  },
  {
   "cell_type": "markdown",
   "id": "46661267083eca99",
   "metadata": {
    "collapsed": false
   },
   "source": [
    "# Benchmarking"
   ]
  },
  {
   "cell_type": "code",
   "execution_count": null,
   "id": "98716730155162ec",
   "metadata": {
    "ExecuteTime": {
     "end_time": "2023-10-23T03:43:24.836224774Z",
     "start_time": "2023-10-23T03:43:24.823579587Z"
    },
    "collapsed": false
   },
   "outputs": [],
   "source": [
    "def manhatten_A_star(path, target):\n",
    "    return a_star(path, target, estimate_function=manhatten_estimate_cost)\n",
    "    \n",
    "def euclidean_A_star(path, target):\n",
    "    return a_star(path, target, estimate_function=euclidean_estimate_cost)\n",
    "    "
   ]
  },
  {
   "cell_type": "code",
   "execution_count": null,
   "id": "267d05d469db08e6",
   "metadata": {
    "ExecuteTime": {
     "end_time": "2023-10-23T03:43:22.342657409Z",
     "start_time": "2023-10-23T03:43:22.284073713Z"
    },
    "collapsed": false
   },
   "outputs": [],
   "source": [
    "def time_algorithms(node, target):\n",
    "    algorithms = [BFS, DFS, manhatten_A_star, euclidean_A_star]\n",
    "    times = [[] for _ in range(len(algorithms))]\n",
    "    for i in range(len(algorithms)):\n",
    "        for _ in range(10):\n",
    "            t = time.time()\n",
    "            ret = algorithms[i](node, target)\n",
    "            t2 = time.time()\n",
    "            time_taken = t2 - t\n",
    "            if time_taken > 60 or ret == None:\n",
    "                times[i] = [-1]\n",
    "                break\n",
    "            times[i].append(time_taken)\n",
    "            \n",
    "    avg_times = [sum(time) / len(time) for time in times]\n",
    "    return avg_times"
   ]
  },
  {
   "cell_type": "code",
   "execution_count": null,
   "id": "839c72e364f5c923",
   "metadata": {
    "ExecuteTime": {
     "start_time": "2023-10-23T03:08:29.315560952Z"
    },
    "collapsed": false
   },
   "outputs": [],
   "source": [
    "# puzzle1 = [\n",
    "#     [1, 2, 5],\n",
    "#     [3, 4, 8],\n",
    "#     [0, 6, 7]\n",
    "# ]\n",
    "\n",
    "target = [0, 1, 2, 3, 4, 5, 6, 7, 8]\n",
    "\n",
    "puzzle1 = [7, 0, 2, 8, 5, 3, 6, 1, 4]\n",
    "\n",
    "node = Node(puzzle1)\n",
    "visualize_puzzle(node)"
   ]
  },
  {
   "cell_type": "code",
   "execution_count": null,
   "id": "70d0c683db761985",
   "metadata": {
    "ExecuteTime": {
     "end_time": "2023-10-23T03:41:55.193728980Z",
     "start_time": "2023-10-23T03:41:54.739212888Z"
    },
    "collapsed": false
   },
   "outputs": [],
   "source": [
    "t = time_algorithms(node, target)\n",
    "t"
   ]
  },
  {
   "cell_type": "code",
   "execution_count": null,
   "id": "475adddfc377d7d7",
   "metadata": {
    "ExecuteTime": {
     "end_time": "2023-10-23T03:41:57.759485887Z",
     "start_time": "2023-10-23T03:41:57.749601831Z"
    },
    "collapsed": false
   },
   "outputs": [],
   "source": [
    "puzzle1 = [\n",
    "    [0, 1, 2],\n",
    "    [5, 3, 4],\n",
    "    [8, 6, 7]\n",
    "]\n",
    "node1 = Node(puzzle1)\n",
    "visualize_puzzle(node)"
   ]
  },
  {
   "cell_type": "code",
   "execution_count": null,
   "id": "82bf9f3379628575",
   "metadata": {
    "ExecuteTime": {
     "end_time": "2023-10-23T03:46:43.905924119Z",
     "start_time": "2023-10-23T03:43:27.143507164Z"
    },
    "collapsed": false
   },
   "outputs": [],
   "source": [
    "t = time_algorithms(node1, target)\n",
    "t"
   ]
  }
 ],
 "metadata": {
  "kernelspec": {
   "display_name": "Python 3",
   "language": "python",
   "name": "python3"
  },
  "language_info": {
   "codemirror_mode": {
    "name": "ipython",
    "version": 3
   },
   "file_extension": ".py",
   "mimetype": "text/x-python",
   "name": "python",
   "nbconvert_exporter": "python",
   "pygments_lexer": "ipython3",
   "version": "3.11.3"
  }
 },
 "nbformat": 4,
 "nbformat_minor": 5
}
