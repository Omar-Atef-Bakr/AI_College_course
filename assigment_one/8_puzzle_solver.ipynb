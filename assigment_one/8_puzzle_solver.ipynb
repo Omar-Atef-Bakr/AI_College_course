{
 "cells": [
  {
   "cell_type": "code",
   "execution_count": 19,
   "id": "680e31930d188c8c",
   "metadata": {
    "ExecuteTime": {
     "end_time": "2023-11-05T11:47:28.102741701Z",
     "start_time": "2023-11-05T11:47:28.006006199Z"
    },
    "collapsed": false
   },
   "outputs": [],
   "source": [
    "# %pip install pygame\n",
    "import copy \n",
    "import pygame\n",
    "import threading\n",
    "import time\n",
    "import heapq"
   ]
  },
  {
   "cell_type": "markdown",
   "id": "fcb3dac1eb177059",
   "metadata": {
    "collapsed": false
   },
   "source": [
    "# Visualize the game state"
   ]
  },
  {
   "cell_type": "code",
   "execution_count": 2,
   "id": "9696943ac6fa63a2",
   "metadata": {
    "ExecuteTime": {
     "end_time": "2023-11-05T11:47:28.383365437Z",
     "start_time": "2023-11-05T11:47:28.105148096Z"
    },
    "collapsed": false
   },
   "outputs": [],
   "source": [
    "# Define puzzle board dimensions and colors\n",
    "WINDOW_SIZE = 300\n",
    "GRID_SIZE = 3\n",
    "GRID_WIDTH = WINDOW_SIZE // GRID_SIZE\n",
    "WHITE = (255, 255, 255)\n",
    "BLACK = (0, 0, 0)\n",
    "\n",
    "current_puzzle = None\n",
    "\n",
    "def draw_grid(screen):\n",
    "    for i in range(1, GRID_SIZE):\n",
    "        pygame.draw.line(screen, BLACK, (i * GRID_WIDTH, 0), (i * GRID_WIDTH, WINDOW_SIZE))\n",
    "        pygame.draw.line(screen, BLACK, (0, i * GRID_WIDTH), (WINDOW_SIZE, i * GRID_WIDTH))\n",
    "\n",
    "\n",
    "def draw_puzzle(screen, puzzle):\n",
    "    font = pygame.font.Font(None, 36)\n",
    "    for i in range(GRID_SIZE * GRID_SIZE):\n",
    "        cell_value = puzzle[i]\n",
    "        if cell_value != 0:\n",
    "            row = i // GRID_SIZE\n",
    "            col = i % GRID_SIZE\n",
    "            cell_text = font.render(str(cell_value), True, BLACK)\n",
    "            cell_rect = cell_text.get_rect(center=(col * GRID_WIDTH + GRID_WIDTH // 2, row * GRID_WIDTH + GRID_WIDTH // 2))\n",
    "            screen.blit(cell_text, cell_rect)\n",
    "\n",
    "\n",
    "def visualize_puzzle(puzzle):\n",
    "    # if a node is sent instead of a state get hold of the state instead\n",
    "    if isinstance(puzzle, Node):\n",
    "        puzzle = puzzle.get_state()\n",
    "        \n",
    "    global current_puzzle\n",
    "    current_puzzle = puzzle\n",
    "\n",
    "def visualize_path(path):\n",
    "    for puzzle in path:\n",
    "        visualize_puzzle(puzzle)\n",
    "        time.sleep(1)\n",
    "\n",
    "def puzzle_thread():\n",
    "    pygame.init()\n",
    "    screen = pygame.display.set_mode((WINDOW_SIZE, WINDOW_SIZE))\n",
    "    pygame.display.set_caption('8-Puzzle Visualization')\n",
    "\n",
    "    while True:\n",
    "        for event in pygame.event.get():\n",
    "            if event.type == pygame.QUIT:\n",
    "                pygame.quit()\n",
    "                return\n",
    "\n",
    "        if current_puzzle is not None:\n",
    "            screen.fill(WHITE)\n",
    "            draw_grid(screen)\n",
    "            draw_puzzle(screen, current_puzzle)\n",
    "            pygame.display.flip()\n",
    "\n",
    "def start_puzzle_thread():\n",
    "    thread = threading.Thread(target=puzzle_thread)\n",
    "    thread.daemon = True\n",
    "    thread.start()\n",
    "\n",
    "def stop_puzzle_thread():\n",
    "    pygame.quit()\n",
    "\n",
    "start_puzzle_thread()"
   ]
  },
  {
   "cell_type": "markdown",
   "id": "8576f076fc55903e",
   "metadata": {
    "collapsed": false
   },
   "source": [
    "# Check if a puzzle is solvable"
   ]
  },
  {
   "cell_type": "code",
   "execution_count": 3,
   "id": "84b0bb5a6c219545",
   "metadata": {
    "ExecuteTime": {
     "end_time": "2023-11-05T11:47:47.473501035Z",
     "start_time": "2023-11-05T11:47:47.429470319Z"
    }
   },
   "outputs": [],
   "source": [
    "def is_solvable(puzzle):\n",
    "    inversions = 0\n",
    "    for i in range(len(puzzle)):\n",
    "        for j in range(i + 1, len(puzzle)):\n",
    "            if puzzle[i] != 0 and puzzle[j] != 0 and puzzle[i] > puzzle[j]:\n",
    "                inversions += 1\n",
    "    return inversions % 2 == 0"
   ]
  },
  {
   "cell_type": "code",
   "execution_count": 4,
   "id": "d6fce1d03230ccd2",
   "metadata": {
    "ExecuteTime": {
     "end_time": "2023-11-05T11:48:01.051256647Z",
     "start_time": "2023-11-05T11:48:00.994188743Z"
    }
   },
   "outputs": [
    {
     "name": "stdout",
     "output_type": "stream",
     "text": [
      "Puzzle 1 is solvable: True\n",
      "Puzzle 2 is solvable: False\n"
     ]
    }
   ],
   "source": [
    "# Test is_solvable function\n",
    "puzzle1 = [1, 2, 3, 4, 5, 6, 7, 8, 0]\n",
    "puzzle2 = [1, 2, 3, 4, 5, 6, 8, 7, 0]\n",
    "\n",
    "print(\"Puzzle 1 is solvable:\", is_solvable(puzzle1))  # Output: True\n",
    "print(\"Puzzle 2 is solvable:\", is_solvable(puzzle2))  # Output: False\n"
   ]
  },
  {
   "cell_type": "markdown",
   "id": "a013ae7026d5ea27",
   "metadata": {
    "collapsed": false
   },
   "source": [
    "# Graph implementation"
   ]
  },
  {
   "cell_type": "code",
   "execution_count": 5,
   "id": "79f83993aa119c4",
   "metadata": {
    "ExecuteTime": {
     "end_time": "2023-11-05T11:48:07.362264295Z",
     "start_time": "2023-11-05T11:48:07.211692455Z"
    },
    "collapsed": false
   },
   "outputs": [],
   "source": [
    "def myPrint(string):\n",
    "    pass"
   ]
  },
  {
   "cell_type": "code",
   "execution_count": 6,
   "id": "425d20d076d6b695",
   "metadata": {
    "ExecuteTime": {
     "end_time": "2023-11-05T11:50:50.846421312Z",
     "start_time": "2023-11-05T11:50:50.803477908Z"
    },
    "collapsed": false
   },
   "outputs": [],
   "source": [
    "class Node:\n",
    "    \n",
    "    GRID_SIZE = 3\n",
    "    \n",
    "    def __init__(self, state):\n",
    "        self.__state = copy.deepcopy(state)\n",
    "        self.__parent = None\n",
    "        self.__path = []\n",
    "        self.__children = []\n",
    "        self.__generate_children()            \n",
    "    \n",
    "\n",
    "    # Generates all possible moves\n",
    "    def __generate_children(self):\n",
    "        self.__children = []\n",
    "        zero_index = self.__state.index(0)\n",
    "        row, col = zero_index // self.GRID_SIZE, zero_index % self.GRID_SIZE\n",
    "\n",
    "        possible_moves = [(row - 1, col), (row + 1, col), (row, col - 1), (row, col + 1)]\n",
    "\n",
    "        for move in possible_moves:\n",
    "            new_row, new_col = move\n",
    "            if 0 <= new_row < self.GRID_SIZE and 0 <= new_col < self.GRID_SIZE:\n",
    "                new_state = self.swap(zero_index, new_row * self.GRID_SIZE + new_col)\n",
    "                self.__children.append(new_state)\n",
    "        return self.__children\n",
    "\n",
    "    # Swaps two elements in the state array\n",
    "    def swap(self, idx1, idx2):\n",
    "        new_state = self.__state[:]\n",
    "        new_state[idx1], new_state[idx2] = new_state[idx2], new_state[idx1]\n",
    "        return new_state\n",
    "\n",
    "   \n",
    "    def __str__(self):\n",
    "        return str(self.__state)    \n",
    "        \n",
    "    def __repr__(self):\n",
    "        return str(self.__state)\n",
    "    \n",
    "    def set_parent(self, parent):\n",
    "        self.__parent = parent\n",
    "        self.__path = parent.get_path()\n",
    "        self.__path.append(parent)\n",
    "    \n",
    "    def get_path(self):\n",
    "        return copy.copy(self.__path)\n",
    "    \n",
    "    def get_state(self):\n",
    "        return copy.deepcopy(self.__state)\n",
    "    \n",
    "    def get_children(self):\n",
    "        return copy.deepcopy(self.__children)\n",
    "    \n",
    "    def get_parent(self):\n",
    "        return self.__parent"
   ]
  },
  {
   "cell_type": "code",
   "execution_count": 7,
   "id": "17890a8c047ff509",
   "metadata": {
    "ExecuteTime": {
     "end_time": "2023-11-05T11:51:26.048327778Z",
     "start_time": "2023-11-05T11:51:25.980623513Z"
    }
   },
   "outputs": [
    {
     "name": "stdout",
     "output_type": "stream",
     "text": [
      "[[1, 2, 5, 3, 4, 0, 6, 7, 8], [1, 2, 5, 3, 4, 8, 6, 0, 7]]\n"
     ]
    }
   ],
   "source": [
    "# Example usage:\n",
    "initial_state = [1, 2, 5, 3, 4, 8, 6, 7, 0]\n",
    "puzzle = Node(initial_state)\n",
    "children = puzzle._Node__generate_children()\n",
    "print(children)\n",
    "visualize_puzzle(puzzle)"
   ]
  },
  {
   "cell_type": "markdown",
   "id": "6be61a681aae688c",
   "metadata": {
    "collapsed": false
   },
   "source": [
    "# BFS"
   ]
  },
  {
   "cell_type": "code",
   "execution_count": 8,
   "id": "7bfe8b026bb67a7b",
   "metadata": {
    "ExecuteTime": {
     "end_time": "2023-11-05T11:59:45.223656314Z",
     "start_time": "2023-11-05T11:59:45.142331372Z"
    },
    "collapsed": false
   },
   "outputs": [],
   "source": [
    "def BFS(node, target, max_nodes=15000):\n",
    "    if not is_solvable(node.get_state()):\n",
    "        print(\"NOT SOLVABLE\")\n",
    "        return [], 0\n",
    "    \n",
    "    queue = [node]\n",
    "    visited = []\n",
    "    while queue:\n",
    "        current_node = queue.pop(0)\n",
    "        current_state = current_node.get_state()\n",
    "        visited.append(current_state)\n",
    "        \n",
    "        if current_state == target:\n",
    "            final_path = current_node.get_path()\n",
    "            final_path.append(current_node)\n",
    "            return final_path, len(visited)\n",
    "        \n",
    "        if len(visited) % 1000 == 0:\n",
    "            myPrint(f'Visited nodes: {len(visited)}, Queue size: {len(queue)}')\n",
    "            if len(visited) >= max_nodes:\n",
    "                print(\"MAX LIMIT\")\n",
    "                return [], 0\n",
    "        \n",
    "        for child_state in current_node.get_children():\n",
    "            if child_state not in visited:\n",
    "                child_node = Node(child_state)\n",
    "                child_node.set_parent(current_node)\n",
    "                queue.append(child_node)\n",
    "    return [], 0\n"
   ]
  },
  {
   "cell_type": "code",
   "execution_count": 33,
   "id": "89e316e34d3c1bcf",
   "metadata": {
    "ExecuteTime": {
     "end_time": "2023-11-05T12:05:09.678064931Z",
     "start_time": "2023-11-05T12:05:09.662373764Z"
    },
    "collapsed": false
   },
   "outputs": [],
   "source": [
    "target = [0, 1, 2, 3, 4, 5, 6, 7, 8]\n",
    "\n",
    "puzzle1 = [1, 2, 5, 3, 4, 8, 6, 7, 0]\n",
    "\n",
    "node = Node(puzzle1)\n",
    "visualize_puzzle(node)"
   ]
  },
  {
   "cell_type": "code",
   "execution_count": 41,
   "id": "5379bded18706dd5",
   "metadata": {
    "ExecuteTime": {
     "end_time": "2023-11-05T11:59:48.675050491Z",
     "start_time": "2023-11-05T11:59:48.637192146Z"
    },
    "collapsed": false
   },
   "outputs": [
    {
     "data": {
      "text/plain": [
       "'visited nodes: 17, path length: 5, time taken: 0.0010039806365966797'"
      ]
     },
     "execution_count": 41,
     "metadata": {},
     "output_type": "execute_result"
    }
   ],
   "source": [
    "visualize_puzzle(node)\n",
    "t1 = time.time()\n",
    "path, nodes_visited = BFS(node, target, max_nodes=100000)\n",
    "t2 = time.time()\n",
    "time_taken = t2 - t1\n",
    "f'visited nodes: {nodes_visited}, path length: {len(path)}, time taken: {time_taken}'"
   ]
  },
  {
   "cell_type": "code",
   "execution_count": 11,
   "id": "47f81c20ff792aa1",
   "metadata": {
    "ExecuteTime": {
     "end_time": "2023-11-05T12:05:04.483981933Z",
     "start_time": "2023-11-05T12:04:59.473771585Z"
    },
    "collapsed": false
   },
   "outputs": [],
   "source": [
    "visualize_path(path)"
   ]
  },
  {
   "cell_type": "markdown",
   "id": "b09d97c4dd55be40",
   "metadata": {
    "collapsed": false
   },
   "source": [
    "# DFS"
   ]
  },
  {
   "cell_type": "code",
   "execution_count": 35,
   "id": "be372ca149a6dfae",
   "metadata": {
    "ExecuteTime": {
     "end_time": "2023-11-05T12:00:15.382387009Z",
     "start_time": "2023-11-05T12:00:15.366229552Z"
    },
    "collapsed": false
   },
   "outputs": [],
   "source": [
    "def DFS(node, target, max_nodes=10000):\n",
    "    if not is_solvable(node.get_state()):\n",
    "        print(\"NOT SOLVABLE\")\n",
    "        return [], 0\n",
    "    \n",
    "    stack = [node]\n",
    "    visited = []\n",
    "    while stack:\n",
    "        current_node = stack.pop()\n",
    "        current_state = current_node.get_state()\n",
    "        visited.append(current_state)\n",
    "        \n",
    "        if current_state == target:\n",
    "            final_path = current_node.get_path()\n",
    "            final_path.append(current_node)\n",
    "            return final_path, len(visited)\n",
    "        \n",
    "        if len(visited) % 1000 == 0:\n",
    "            myPrint(f'visited nodes: {len(visited)}, stack size: {len(stack)}')\n",
    "            if len(visited) >= max_nodes:\n",
    "                print(\"MAX LIMIT\")\n",
    "                return [], 0\n",
    "            \n",
    "        for child in current_node.get_children():\n",
    "            if child not in visited:\n",
    "                child = Node(child)\n",
    "                child.set_parent(current_node)\n",
    "                stack.append(child)\n",
    "    return [], 0"
   ]
  },
  {
   "cell_type": "code",
   "execution_count": 36,
   "id": "a2ea3c99b0edc68c",
   "metadata": {
    "ExecuteTime": {
     "end_time": "2023-11-05T12:00:19.947993161Z",
     "start_time": "2023-11-05T12:00:19.932069508Z"
    },
    "collapsed": false
   },
   "outputs": [],
   "source": [
    "target = [0, 1, 2, 3, 4, 5, 6, 7, 8]\n",
    "\n",
    "puzzle1 = [1, 2, 5, 3, 4, 8, 6, 7, 0]\n",
    "\n",
    "node = Node(puzzle1)\n",
    "visualize_puzzle(node)"
   ]
  },
  {
   "cell_type": "code",
   "execution_count": 42,
   "id": "849e7302c12e106a",
   "metadata": {
    "ExecuteTime": {
     "end_time": "2023-11-05T12:05:12.976585328Z",
     "start_time": "2023-11-05T12:05:12.952110101Z"
    },
    "collapsed": false
   },
   "outputs": [
    {
     "data": {
      "text/plain": [
       "'visited nodes: 33, path length: 33, time taken: 0.0009970664978027344'"
      ]
     },
     "execution_count": 42,
     "metadata": {},
     "output_type": "execute_result"
    }
   ],
   "source": [
    "t1 = time.time()\n",
    "path, nodes_visited = DFS(node, target, max_nodes=1000000)\n",
    "t2 = time.time()\n",
    "time_taken = t2 - t1\n",
    "\n",
    "f'visited nodes: {nodes_visited}, path length: {len(path)}, time taken: {time_taken}'\n"
   ]
  },
  {
   "cell_type": "code",
   "execution_count": 17,
   "id": "558e4cd9f3d22626",
   "metadata": {
    "ExecuteTime": {
     "end_time": "2023-11-05T12:05:49.254157695Z",
     "start_time": "2023-11-05T12:05:16.216723950Z"
    },
    "collapsed": false
   },
   "outputs": [],
   "source": [
    "visualize_path(path)"
   ]
  },
  {
   "cell_type": "markdown",
   "id": "c2da9a192e7ac2df",
   "metadata": {
    "collapsed": false
   },
   "source": [
    "# A*"
   ]
  },
  {
   "cell_type": "code",
   "execution_count": 21,
   "id": "5ad7dbf5577dabd6",
   "metadata": {
    "ExecuteTime": {
     "end_time": "2023-11-05T12:05:49.302514953Z",
     "start_time": "2023-11-05T12:05:49.302026395Z"
    },
    "collapsed": false
   },
   "outputs": [],
   "source": [
    "def manhatten_estimate_cost(state):\n",
    "    cost = 0\n",
    "    for i in range(len(state)):\n",
    "        value = state[i]\n",
    "        if value != 0:\n",
    "            current_row, current_col = i // 3, i % 3\n",
    "            target_row, target_col = (value - 1) // 3, (value - 1) % 3\n",
    "            cost += abs(current_row - target_row) + abs(current_col - target_col)\n",
    "    return cost"
   ]
  },
  {
   "cell_type": "code",
   "execution_count": 22,
   "id": "14634379fb6ec4ad",
   "metadata": {
    "ExecuteTime": {
     "end_time": "2023-11-05T12:05:49.304164658Z",
     "start_time": "2023-11-05T12:05:49.302350205Z"
    },
    "collapsed": false
   },
   "outputs": [],
   "source": [
    "def euclidean_estimate_cost(state):\n",
    "    cost = 0\n",
    "    for i in range(len(state)):\n",
    "        if state[i] != 0:\n",
    "            current_row, current_col = i // 3, i % 3\n",
    "            target_row, target_col = (state[i] - 1) // 3, (state[i] - 1) % 3\n",
    "            cost += ((current_row - target_row) ** 2 + (current_col - target_col) ** 2) ** 0.5\n",
    "    return cost"
   ]
  },
  {
   "cell_type": "code",
   "execution_count": 23,
   "id": "e7a1239ecd25251b",
   "metadata": {
    "ExecuteTime": {
     "end_time": "2023-11-05T12:10:59.375460465Z",
     "start_time": "2023-11-05T12:10:59.326055813Z"
    },
    "collapsed": false
   },
   "outputs": [],
   "source": [
    "def a_star(node, target, estimate_function=manhatten_estimate_cost, max_nodes=100000):\n",
    "    if not is_solvable(node.get_state()):\n",
    "        return None\n",
    "    \n",
    "    # Q values are tuples (weight, insert_order, node). insert order is used to break ties\n",
    "    queue = [(0, 0, node)]\n",
    "    \n",
    "    # Q inserts counter\n",
    "    i = 1\n",
    "    \n",
    "    visited = []\n",
    "    while queue:\n",
    "        \n",
    "        # pop the node with the lowest weight\n",
    "        current_node = heapq.heappop(queue)[-1]\n",
    "        current_state = current_node.get_state()\n",
    "        visited.append(current_state)\n",
    "        \n",
    "        # check if goal state is reached\n",
    "        if current_state == target:\n",
    "            final_path = current_node.get_path()\n",
    "            final_path.append(current_node)\n",
    "            return final_path, len(visited)\n",
    "        \n",
    "        if len(visited) % 1000 == 0:\n",
    "            myPrint(f'visited nodes: {len(visited)}, queue size: {len(queue)}')\n",
    "            if len(visited) >= max_nodes:\n",
    "                print(\"max nodes reached\")\n",
    "                return None\n",
    "        \n",
    "        for child in current_node.get_children():\n",
    "            if child not in visited:\n",
    "                child = Node(child)\n",
    "                child.set_parent(current_node)\n",
    "                \n",
    "                # calculate weight by adding the manhatten distance to goal and the path length\n",
    "                h_n = len(child.get_path())\n",
    "                g_n = estimate_function(child.get_state())\n",
    "                weight = h_n + g_n\n",
    "                \n",
    "                # push to priority queue\n",
    "                heapq.heappush(queue, (weight, i, child))\n",
    "                i+=1\n",
    "    return None"
   ]
  },
  {
   "cell_type": "code",
   "execution_count": 24,
   "id": "4bd84c068dd4ba1e",
   "metadata": {
    "ExecuteTime": {
     "end_time": "2023-11-05T12:11:00.802319387Z",
     "start_time": "2023-11-05T12:11:00.787093590Z"
    },
    "collapsed": false
   },
   "outputs": [],
   "source": [
    "target = [0, 1, 2, 3, 4, 5, 6, 7, 8]\n",
    "\n",
    "puzzle1 = [1, 2, 5, 3, 4, 8, 6, 7, 0]\n",
    "\n",
    "node = Node(puzzle1)\n",
    "visualize_puzzle(node)"
   ]
  },
  {
   "cell_type": "markdown",
   "metadata": {},
   "source": [
    "## Manhatten"
   ]
  },
  {
   "cell_type": "code",
   "execution_count": 43,
   "id": "165381712bce06db",
   "metadata": {
    "ExecuteTime": {
     "end_time": "2023-11-05T12:11:01.539282624Z",
     "start_time": "2023-11-05T12:11:01.507027944Z"
    },
    "collapsed": false
   },
   "outputs": [
    {
     "data": {
      "text/plain": [
       "'visited nodes: 16, path length: 5, time taken: 0.0010089874267578125'"
      ]
     },
     "execution_count": 43,
     "metadata": {},
     "output_type": "execute_result"
    }
   ],
   "source": [
    "t = time.time()\n",
    "path, visited_nodes = a_star(node, target, estimate_function=manhatten_estimate_cost)\n",
    "t2 = time.time()\n",
    "time_taken = t2 - t\n",
    "# visualize_path(path)\n",
    "f'visited nodes: {visited_nodes}, path length: {len(path)}, time taken: {time_taken}' "
   ]
  },
  {
   "cell_type": "code",
   "execution_count": 26,
   "metadata": {},
   "outputs": [],
   "source": [
    "visualize_path(path)"
   ]
  },
  {
   "cell_type": "markdown",
   "metadata": {},
   "source": [
    "## Euclidean"
   ]
  },
  {
   "cell_type": "code",
   "execution_count": 44,
   "id": "ac362487814480ee",
   "metadata": {
    "ExecuteTime": {
     "end_time": "2023-11-05T12:11:02.472137060Z",
     "start_time": "2023-11-05T12:11:02.429444883Z"
    },
    "collapsed": false
   },
   "outputs": [
    {
     "data": {
      "text/plain": [
       "'visited nodes: 37, path length: 5, time taken: 0.0019948482513427734'"
      ]
     },
     "execution_count": 44,
     "metadata": {},
     "output_type": "execute_result"
    }
   ],
   "source": [
    "t = time.time()\n",
    "path, visited_nodes = a_star(node, target, estimate_function=euclidean_estimate_cost)\n",
    "t2 = time.time()\n",
    "time_taken = t2 - t\n",
    "\n",
    "# visualize_path(path)\n",
    "f'visited nodes: {visited_nodes}, path length: {len(path)}, time taken: {time_taken}' "
   ]
  },
  {
   "cell_type": "code",
   "execution_count": 28,
   "id": "ea539d719f6b1302",
   "metadata": {
    "ExecuteTime": {
     "end_time": "2023-11-05T12:11:26.412260737Z",
     "start_time": "2023-11-05T12:11:21.404459856Z"
    },
    "collapsed": false
   },
   "outputs": [],
   "source": [
    "visualize_path(path)"
   ]
  },
  {
   "cell_type": "markdown",
   "id": "46661267083eca99",
   "metadata": {
    "collapsed": false
   },
   "source": [
    "# Benchmarking"
   ]
  },
  {
   "cell_type": "code",
   "execution_count": 29,
   "id": "98716730155162ec",
   "metadata": {
    "ExecuteTime": {
     "end_time": "2023-10-23T03:43:24.836224774Z",
     "start_time": "2023-10-23T03:43:24.823579587Z"
    },
    "collapsed": false
   },
   "outputs": [],
   "source": [
    "def manhatten_A_star(path, target):\n",
    "    return a_star(path, target, estimate_function=manhatten_estimate_cost)\n",
    "    \n",
    "def euclidean_A_star(path, target):\n",
    "    return a_star(path, target, estimate_function=euclidean_estimate_cost)\n",
    "    "
   ]
  },
  {
   "cell_type": "code",
   "execution_count": 30,
   "id": "267d05d469db08e6",
   "metadata": {
    "ExecuteTime": {
     "end_time": "2023-10-23T03:43:22.342657409Z",
     "start_time": "2023-10-23T03:43:22.284073713Z"
    },
    "collapsed": false
   },
   "outputs": [],
   "source": [
    "def time_algorithms(node, target):\n",
    "    algorithms = [BFS, DFS, manhatten_A_star, euclidean_A_star]\n",
    "    times = [[] for _ in range(len(algorithms))]\n",
    "    for i in range(len(algorithms)):\n",
    "        for _ in range(10):\n",
    "            t = time.time()\n",
    "            ret = algorithms[i](node, target)\n",
    "            t2 = time.time()\n",
    "            time_taken = t2 - t\n",
    "            if time_taken > 60 or ret == None:\n",
    "                times[i] = [-1]\n",
    "                break\n",
    "            times[i].append(time_taken)\n",
    "            \n",
    "    avg_times = [sum(time) / len(time) for time in times]\n",
    "    return avg_times"
   ]
  },
  {
   "cell_type": "code",
   "execution_count": 31,
   "id": "839c72e364f5c923",
   "metadata": {
    "ExecuteTime": {
     "start_time": "2023-10-23T03:08:29.315560952Z"
    },
    "collapsed": false
   },
   "outputs": [],
   "source": [
    "target = [0, 1, 2, 3, 4, 5, 6, 7, 8]\n",
    "\n",
    "puzzle1 = [1, 2, 5, 3, 4, 8, 6, 7, 0]\n",
    "\n",
    "node = Node(puzzle1)\n",
    "visualize_puzzle(node)"
   ]
  },
  {
   "cell_type": "code",
   "execution_count": 32,
   "id": "70d0c683db761985",
   "metadata": {
    "ExecuteTime": {
     "end_time": "2023-10-23T03:41:55.193728980Z",
     "start_time": "2023-10-23T03:41:54.739212888Z"
    },
    "collapsed": false
   },
   "outputs": [
    {
     "data": {
      "text/plain": [
       "[0.0005019187927246093,\n",
       " 0.0011504173278808593,\n",
       " 0.0010246038436889648,\n",
       " 0.0018053531646728515]"
      ]
     },
     "execution_count": 32,
     "metadata": {},
     "output_type": "execute_result"
    }
   ],
   "source": [
    "t = time_algorithms(node, target)\n",
    "t"
   ]
  }
 ],
 "metadata": {
  "kernelspec": {
   "display_name": "Python 3",
   "language": "python",
   "name": "python3"
  },
  "language_info": {
   "codemirror_mode": {
    "name": "ipython",
    "version": 3
   },
   "file_extension": ".py",
   "mimetype": "text/x-python",
   "name": "python",
   "nbconvert_exporter": "python",
   "pygments_lexer": "ipython3",
   "version": "3.11.3"
  }
 },
 "nbformat": 4,
 "nbformat_minor": 5
}
