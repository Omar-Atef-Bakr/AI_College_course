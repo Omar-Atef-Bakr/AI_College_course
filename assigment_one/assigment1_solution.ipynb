{
 "cells": [
  {
   "cell_type": "code",
   "execution_count": 1,
   "outputs": [
    {
     "name": "stdout",
     "output_type": "stream",
     "text": [
      "pygame 2.5.2 (SDL 2.28.2, Python 3.10.12)\n",
      "Hello from the pygame community. https://www.pygame.org/contribute.html\n"
     ]
    }
   ],
   "source": [
    "import copy \n",
    "import pygame\n",
    "import threading\n",
    "import time"
   ],
   "metadata": {
    "collapsed": false,
    "ExecuteTime": {
     "end_time": "2023-11-04T08:15:06.338404627Z",
     "start_time": "2023-11-04T08:15:06.110194092Z"
    }
   },
   "id": "680e31930d188c8c"
  },
  {
   "cell_type": "markdown",
   "source": [
    "# Visualize the game state"
   ],
   "metadata": {
    "collapsed": false
   },
   "id": "fcb3dac1eb177059"
  },
  {
   "cell_type": "code",
   "execution_count": 2,
   "outputs": [],
   "source": [
    "\n",
    "\n",
    "# Define puzzle board dimensions and colors\n",
    "WINDOW_SIZE = 300\n",
    "GRID_SIZE = 3\n",
    "GRID_WIDTH = WINDOW_SIZE // GRID_SIZE\n",
    "WHITE = (255, 255, 255)\n",
    "BLACK = (0, 0, 0)\n",
    "\n",
    "current_puzzle = None\n",
    "path = None\n",
    "path_index = 0\n",
    "\n",
    "def draw_grid(screen):\n",
    "    for i in range(1, GRID_SIZE):\n",
    "        pygame.draw.line(screen, BLACK, (i * GRID_WIDTH, 0), (i * GRID_WIDTH, WINDOW_SIZE))\n",
    "        pygame.draw.line(screen, BLACK, (0, i * GRID_WIDTH), (WINDOW_SIZE, i * GRID_WIDTH))\n",
    "\n",
    "def draw_puzzle(screen, puzzle):\n",
    "    font = pygame.font.Font(None, 36)\n",
    "    for row in range(GRID_SIZE):\n",
    "        for col in range(GRID_SIZE):\n",
    "            cell_value = puzzle[row][col]\n",
    "            if cell_value != 0:\n",
    "                cell_text = font.render(str(cell_value), True, BLACK)\n",
    "                cell_rect = cell_text.get_rect(center=(col * GRID_WIDTH + GRID_WIDTH // 2, row * GRID_WIDTH + GRID_WIDTH // 2))\n",
    "                screen.blit(cell_text, cell_rect)\n",
    "\n",
    "def visualize_puzzle(puzzle):\n",
    "    # if a node is sent instead of a state get hold of the state instead\n",
    "    if isinstance(puzzle, Node):\n",
    "        puzzle = puzzle.get_state()\n",
    "        \n",
    "    global current_puzzle\n",
    "    current_puzzle = puzzle\n",
    "\n",
    "def next_state():\n",
    "    global path\n",
    "    global path_index\n",
    "    \n",
    "    if path_index >= len(path):\n",
    "        print(\"!!!Path ended!!!\")\n",
    "        return \n",
    "    \n",
    "    visualize_puzzle(path[path_index].getstate())\n",
    "    path_index += 1\n",
    "\n",
    "def prev_state():\n",
    "    global path\n",
    "    global path_index\n",
    "    \n",
    "    if path_index <= 0:\n",
    "        print(\"!!!First State!!!\")\n",
    "        return \n",
    "    \n",
    "    visualize_puzzle(path[path_index].getstate())\n",
    "    path_index += 1\n",
    "\n",
    "def visualize_path(p):\n",
    "    global path\n",
    "    path = p\n",
    "    \n",
    "    for puzzle in path:\n",
    "        visualize_puzzle(puzzle)\n",
    "        time.sleep(1)\n",
    "\n",
    "def puzzle_thread():\n",
    "    pygame.init()\n",
    "    screen = pygame.display.set_mode((WINDOW_SIZE, WINDOW_SIZE))\n",
    "    pygame.display.set_caption('8-Puzzle Visualization')\n",
    "\n",
    "    while True:\n",
    "        for event in pygame.event.get():\n",
    "            if event.type == pygame.QUIT:\n",
    "                pygame.quit()\n",
    "                return\n",
    "\n",
    "        if current_puzzle is not None:\n",
    "            screen.fill(WHITE)\n",
    "            draw_grid(screen)\n",
    "            draw_puzzle(screen, current_puzzle)\n",
    "            pygame.display.flip()\n",
    "\n",
    "def start_puzzle_thread():\n",
    "    thread = threading.Thread(target=puzzle_thread)\n",
    "    thread.daemon = True\n",
    "    thread.start()\n",
    "\n",
    "def stop_puzzle_thread():\n",
    "    pygame.quit()\n",
    "\n",
    "start_puzzle_thread()"
   ],
   "metadata": {
    "collapsed": false,
    "ExecuteTime": {
     "end_time": "2023-11-04T08:15:06.899395998Z",
     "start_time": "2023-11-04T08:15:06.347960029Z"
    }
   },
   "id": "9696943ac6fa63a2"
  },
  {
   "cell_type": "markdown",
   "source": [
    "# Graph implementation"
   ],
   "metadata": {
    "collapsed": false
   },
   "id": "a013ae7026d5ea27"
  },
  {
   "cell_type": "code",
   "execution_count": 3,
   "outputs": [],
   "source": [
    "class Node:\n",
    "    \n",
    "    GRID_SIZE = 3\n",
    "    \n",
    "    def __init__(self, state):\n",
    "        self.__state = copy.deepcopy(state)\n",
    "        self.__parent = None\n",
    "        self.__path = []\n",
    "        self.__children = []\n",
    "        self.__generate_children()            \n",
    "    \n",
    "    # generates all possible moves\n",
    "    def __generate_children(self):\n",
    "        self.__children = []\n",
    "        for i in range(self.GRID_SIZE):\n",
    "            for j in range(self.GRID_SIZE):\n",
    "                if self.__state[i][j] == 0:\n",
    "                    if i > 0:\n",
    "                        self.__children.append(self.swap(i, j, i - 1, j))\n",
    "                    if i < self.GRID_SIZE - 1:\n",
    "                        self.__children.append(self.swap(i, j, i + 1, j))\n",
    "                    if j > 0:\n",
    "                        self.__children.append(self.swap(i, j, i, j - 1))\n",
    "                    if j < self.GRID_SIZE - 1:\n",
    "                        self.__children.append(self.swap(i, j, i, j + 1))\n",
    "                    return self.__children\n",
    "        \n",
    "    def __str__(self):\n",
    "        return str(self.__state)    \n",
    "        \n",
    "    def __repr__(self):\n",
    "        return str(self.__state)\n",
    "    \n",
    "    # returns a state one move from the current state\n",
    "    def swap(self, x1, y1, x2, y2):\n",
    "        new_state = copy.deepcopy(self.__state)\n",
    "        new_state[x1][y1], new_state[x2][y2] = new_state[x2][y2], new_state[x1][y1] \n",
    "        return new_state\n",
    "    \n",
    "    def set_parent(self, parent):\n",
    "        self.__parent = parent\n",
    "        self.__path = parent.get_path()\n",
    "        self.__path.append(parent)\n",
    "    \n",
    "    def get_path(self):\n",
    "        return copy.copy(self.__path)\n",
    "    \n",
    "    def get_state(self):\n",
    "        return copy.deepcopy(self.__state)\n",
    "    \n",
    "    def get_children(self):\n",
    "        return copy.deepcopy(self.__children)\n",
    "    \n",
    "    def get_parent(self):\n",
    "        return self.__parent"
   ],
   "metadata": {
    "collapsed": false,
    "ExecuteTime": {
     "end_time": "2023-11-04T08:15:07.010992428Z",
     "start_time": "2023-11-04T08:15:06.908574092Z"
    }
   },
   "id": "425d20d076d6b695"
  },
  {
   "cell_type": "code",
   "execution_count": 4,
   "outputs": [],
   "source": [
    "puzzle1 = [\n",
    "    [1, 2, 3],\n",
    "    [8, 0, 4],\n",
    "    [7, 6, 5]\n",
    "]"
   ],
   "metadata": {
    "collapsed": false,
    "ExecuteTime": {
     "end_time": "2023-11-04T08:15:07.127685382Z",
     "start_time": "2023-11-04T08:15:07.047825116Z"
    }
   },
   "id": "24dafb13a74b837a"
  },
  {
   "cell_type": "code",
   "execution_count": 5,
   "outputs": [],
   "source": [
    "node = Node(puzzle1)\n",
    "visualize_puzzle(node)"
   ],
   "metadata": {
    "collapsed": false,
    "ExecuteTime": {
     "end_time": "2023-11-04T08:15:07.202357382Z",
     "start_time": "2023-11-04T08:15:07.161992615Z"
    }
   },
   "id": "3e12946d6817207d"
  },
  {
   "cell_type": "markdown",
   "source": [
    "# BFS"
   ],
   "metadata": {
    "collapsed": false
   },
   "id": "6be61a681aae688c"
  },
  {
   "cell_type": "code",
   "execution_count": 6,
   "outputs": [],
   "source": [
    "def BFS(node, target):\n",
    "    queue = [node]\n",
    "    visited = []\n",
    "    while queue:\n",
    "        current_node = queue.pop(0)\n",
    "        current_state = current_node.get_state()\n",
    "        visited.append(current_state)\n",
    "        \n",
    "        if current_state == target:\n",
    "            final_path = current_node.get_path()\n",
    "            final_path.append(current_node)\n",
    "            return final_path, len(visited)\n",
    "        \n",
    "        if len(visited) % 1000 == 0:\n",
    "            print(f'visited nodes: {len(visited)}, queue size: {len(queue)}')\n",
    "        \n",
    "        for child in current_node.get_children():\n",
    "            if child not in visited:\n",
    "                child = Node(child)\n",
    "                child.set_parent(current_node)\n",
    "                queue.append(child)\n",
    "    return None"
   ],
   "metadata": {
    "collapsed": false,
    "ExecuteTime": {
     "end_time": "2023-11-04T08:15:18.778168667Z",
     "start_time": "2023-11-04T08:15:18.762863609Z"
    }
   },
   "id": "7bfe8b026bb67a7b"
  },
  {
   "cell_type": "code",
   "execution_count": 12,
   "outputs": [],
   "source": [
    "target = [\n",
    "    [0, 1, 2],\n",
    "    [3, 4, 5],\n",
    "    [6, 7, 8]\n",
    "]\n",
    "\n",
    "puzzle1 = [\n",
    "    [1, 2, 5],\n",
    "    [3, 4, 8],\n",
    "    [6, 7, 0]\n",
    "]\n",
    "node = Node(puzzle1)\n",
    "# visualize_puzzle(node)"
   ],
   "metadata": {
    "collapsed": false,
    "ExecuteTime": {
     "end_time": "2023-11-04T08:17:07.312331210Z",
     "start_time": "2023-11-04T08:17:07.253315789Z"
    }
   },
   "id": "89e316e34d3c1bcf"
  },
  {
   "cell_type": "code",
   "execution_count": 8,
   "outputs": [
    {
     "data": {
      "text/plain": "'visited nodes: 17, path length: 5, time taken: 0.024868011474609375'"
     },
     "execution_count": 8,
     "metadata": {},
     "output_type": "execute_result"
    }
   ],
   "source": [
    "visualize_puzzle(node)\n",
    "t1 = time.time()\n",
    "path, nodes_visited = BFS(node, target)\n",
    "t2 = time.time()\n",
    "time_taken = t2 - t1\n",
    "f'visited nodes: {nodes_visited}, path length: {len(path)}, time taken: {time_taken}'"
   ],
   "metadata": {
    "collapsed": false,
    "ExecuteTime": {
     "end_time": "2023-11-04T08:16:16.092313861Z",
     "start_time": "2023-11-04T08:16:16.076252986Z"
    }
   },
   "id": "5379bded18706dd5"
  },
  {
   "cell_type": "code",
   "execution_count": 9,
   "outputs": [],
   "source": [
    "visualize_path(path)"
   ],
   "metadata": {
    "collapsed": false,
    "ExecuteTime": {
     "end_time": "2023-11-04T08:16:33.517240097Z",
     "start_time": "2023-11-04T08:16:28.510905627Z"
    }
   },
   "id": "47f81c20ff792aa1"
  },
  {
   "cell_type": "markdown",
   "source": [
    "# DFS"
   ],
   "metadata": {
    "collapsed": false
   },
   "id": "b09d97c4dd55be40"
  },
  {
   "cell_type": "code",
   "execution_count": 10,
   "outputs": [],
   "source": [
    "def DFS(node, target):\n",
    "    stack = [node]\n",
    "    visited = []\n",
    "    while stack:\n",
    "        current_node = stack.pop()\n",
    "        current_state = current_node.get_state()\n",
    "        visited.append(current_state)\n",
    "        \n",
    "        if current_state == target:\n",
    "            final_path = current_node.get_path()\n",
    "            final_path.append(current_node)\n",
    "            return final_path, len(visited)\n",
    "        \n",
    "        if len(visited) % 1000 == 0:\n",
    "            print(f'visited nodes: {len(visited)}, stack size: {len(stack)}')\n",
    "            \n",
    "        for child in current_node.get_children():\n",
    "            if child not in visited:\n",
    "                child = Node(child)\n",
    "                child.set_parent(current_node)\n",
    "                stack.append(child)\n",
    "    return None"
   ],
   "metadata": {
    "collapsed": false,
    "ExecuteTime": {
     "end_time": "2023-11-04T08:16:43.143250732Z",
     "start_time": "2023-11-04T08:16:43.087874767Z"
    }
   },
   "id": "be372ca149a6dfae"
  },
  {
   "cell_type": "code",
   "execution_count": 11,
   "outputs": [],
   "source": [
    "target = [\n",
    "    [0, 1, 2],\n",
    "    [3, 4, 5],\n",
    "    [6, 7, 8]\n",
    "]\n",
    "\n",
    "puzzle1 = [\n",
    "    [1, 2, 5],\n",
    "    [6, 3, 4],\n",
    "    [7, 8, 0]\n",
    "]\n",
    "node = Node(puzzle1)\n",
    "# visualize_puzzle(node)"
   ],
   "metadata": {
    "collapsed": false,
    "ExecuteTime": {
     "end_time": "2023-11-04T08:16:45.509371847Z",
     "start_time": "2023-11-04T08:16:45.493936199Z"
    }
   },
   "id": "a2ea3c99b0edc68c"
  },
  {
   "cell_type": "code",
   "execution_count": 13,
   "outputs": [
    {
     "data": {
      "text/plain": "'visited nodes: 33, path length: 33, time taken: 0.007025957107543945'"
     },
     "execution_count": 13,
     "metadata": {},
     "output_type": "execute_result"
    }
   ],
   "source": [
    "t1 = time.time()\n",
    "path, nodes_visited = DFS(node, target)\n",
    "t2 = time.time()\n",
    "time_taken = t2 - t1\n",
    "\n",
    "f'visited nodes: {nodes_visited}, path length: {len(path)}, time taken: {time_taken}'"
   ],
   "metadata": {
    "collapsed": false,
    "ExecuteTime": {
     "end_time": "2023-11-04T08:17:22.986078931Z",
     "start_time": "2023-11-04T08:17:22.972957461Z"
    }
   },
   "id": "849e7302c12e106a"
  },
  {
   "cell_type": "code",
   "execution_count": 14,
   "outputs": [],
   "source": [
    "visualize_path(path)"
   ],
   "metadata": {
    "collapsed": false,
    "ExecuteTime": {
     "end_time": "2023-11-04T08:18:07.570374384Z",
     "start_time": "2023-11-04T08:17:34.493757662Z"
    }
   },
   "id": "558e4cd9f3d22626"
  },
  {
   "cell_type": "markdown",
   "source": [
    "# A*"
   ],
   "metadata": {
    "collapsed": false
   },
   "id": "c2da9a192e7ac2df"
  },
  {
   "cell_type": "code",
   "execution_count": 18,
   "outputs": [],
   "source": [
    "import heapq"
   ],
   "metadata": {
    "collapsed": false,
    "ExecuteTime": {
     "end_time": "2023-11-04T08:24:59.743345685Z",
     "start_time": "2023-11-04T08:24:59.726528908Z"
    }
   },
   "id": "44e0bc27bceef551"
  },
  {
   "cell_type": "code",
   "execution_count": 19,
   "outputs": [],
   "source": [
    "def manhatten_estimate_cost(state):\n",
    "    cost = 0\n",
    "    for i in range(len(state)):\n",
    "        for j in range(len(state)):\n",
    "            value = state[i][j]\n",
    "            if value != 0:\n",
    "                target_row, target_col = value // 3, value % 3\n",
    "                cost += abs(i - target_row) + abs(j - target_col)\n",
    "    return cost"
   ],
   "metadata": {
    "collapsed": false,
    "ExecuteTime": {
     "end_time": "2023-11-04T08:25:00.027880022Z",
     "start_time": "2023-11-04T08:25:00.014283952Z"
    }
   },
   "id": "5ad7dbf5577dabd6"
  },
  {
   "cell_type": "code",
   "execution_count": 20,
   "outputs": [],
   "source": [
    "def eaclidean_estimate_cost(state):\n",
    "    cost = 0\n",
    "    for i in range(len(state)):\n",
    "        for j in range(len(state)):\n",
    "            value = state[i][j]\n",
    "            if value != 0:\n",
    "                target_row, target_col = value // 3, value % 3\n",
    "                cost += ((i - target_row)**2 + (j - target_col)**2)**0.5\n",
    "    return cost"
   ],
   "metadata": {
    "collapsed": false,
    "ExecuteTime": {
     "end_time": "2023-11-04T08:25:00.447106941Z",
     "start_time": "2023-11-04T08:25:00.432100264Z"
    }
   },
   "id": "14634379fb6ec4ad"
  },
  {
   "cell_type": "code",
   "execution_count": 21,
   "outputs": [],
   "source": [
    "def a_star(node, target, estimate_function=manhatten_estimate_cost):\n",
    "    \n",
    "    # Q values are tuples (weight, insert_order, node). insert order is used to break ties\n",
    "    queue = [(0, 0, node)]\n",
    "    \n",
    "    # Q inserts counter\n",
    "    i = 1\n",
    "    \n",
    "    visited = []\n",
    "    while queue:\n",
    "        \n",
    "        # pop the node with the lowest weight\n",
    "        current_node = heapq.heappop(queue)[-1]\n",
    "        current_state = current_node.get_state()\n",
    "        visited.append(current_state)\n",
    "        \n",
    "        # check if goal state is reached\n",
    "        if current_state == target:\n",
    "            final_path = current_node.get_path()\n",
    "            final_path.append(current_node)\n",
    "            return final_path, len(visited)\n",
    "        \n",
    "        if len(visited) % 1000 == 0:\n",
    "            print(f'visited nodes: {len(visited)}, queue size: {len(queue)}')\n",
    "        \n",
    "        for child in current_node.get_children():\n",
    "            if child not in visited:\n",
    "                child = Node(child)\n",
    "                child.set_parent(current_node)\n",
    "                \n",
    "                # calculate weight by adding the manhatten distance to goal and the path length\n",
    "                h_n = len(child.get_path())\n",
    "                g_n = estimate_function(child.get_state())\n",
    "                weight = h_n + g_n\n",
    "                \n",
    "                # push to priority queue\n",
    "                heapq.heappush(queue, (weight, i, child))\n",
    "                i+=1\n",
    "    return None"
   ],
   "metadata": {
    "collapsed": false,
    "ExecuteTime": {
     "end_time": "2023-11-04T08:25:00.979706501Z",
     "start_time": "2023-11-04T08:25:00.941080763Z"
    }
   },
   "id": "e7a1239ecd25251b"
  },
  {
   "cell_type": "code",
   "execution_count": 22,
   "outputs": [],
   "source": [
    "target = [\n",
    "    [0, 1, 2],\n",
    "    [3, 4, 5],\n",
    "    [6, 7, 8]\n",
    "]\n",
    "\n",
    "puzzle1 = [\n",
    "    [0, 1, 2],\n",
    "    [5, 3, 4],\n",
    "    [8, 6, 7]\n",
    "]\n",
    "node = Node(puzzle1)\n",
    "visualize_puzzle(node)"
   ],
   "metadata": {
    "collapsed": false,
    "ExecuteTime": {
     "end_time": "2023-11-04T08:25:02.556096655Z",
     "start_time": "2023-11-04T08:25:02.539572476Z"
    }
   },
   "id": "4bd84c068dd4ba1e"
  },
  {
   "cell_type": "code",
   "execution_count": 23,
   "outputs": [
    {
     "name": "stdout",
     "output_type": "stream",
     "text": [
      "visited nodes: 1000, queue size: 616\n"
     ]
    },
    {
     "data": {
      "text/plain": "'visited nodes: 1640, path length: 23, time taken: 0.42557525634765625'"
     },
     "execution_count": 23,
     "metadata": {},
     "output_type": "execute_result"
    }
   ],
   "source": [
    "t = time.time()\n",
    "path, visited_nodes = a_star(node, target, estimate_function=manhatten_estimate_cost)\n",
    "t2 = time.time()\n",
    "time_taken = t2 - t\n",
    "visualize_path(path)\n",
    "f'visited nodes: {visited_nodes}, path length: {len(path)}, time taken: {time_taken}' "
   ],
   "metadata": {
    "collapsed": false,
    "ExecuteTime": {
     "end_time": "2023-11-04T08:25:41.119923491Z",
     "start_time": "2023-11-04T08:25:17.619350913Z"
    }
   },
   "id": "165381712bce06db"
  },
  {
   "cell_type": "code",
   "execution_count": 24,
   "outputs": [
    {
     "name": "stdout",
     "output_type": "stream",
     "text": [
      "visited nodes: 1000, queue size: 587\n",
      "visited nodes: 2000, queue size: 1204\n"
     ]
    },
    {
     "data": {
      "text/plain": "'visited nodes: 2076, path length: 23, time taken: 0.6429181098937988'"
     },
     "execution_count": 24,
     "metadata": {},
     "output_type": "execute_result"
    }
   ],
   "source": [
    "t = time.time()\n",
    "path, visited_nodes = a_star(node, target, estimate_function=eaclidean_estimate_cost)\n",
    "t2 = time.time()\n",
    "time_taken = t2 - t\n",
    "\n",
    "visualize_path(path)\n",
    "f'visited nodes: {visited_nodes}, path length: {len(path)}, time taken: {time_taken}' "
   ],
   "metadata": {
    "collapsed": false,
    "ExecuteTime": {
     "end_time": "2023-11-04T08:26:31.389487842Z",
     "start_time": "2023-11-04T08:26:07.719085751Z"
    }
   },
   "id": "ac362487814480ee"
  },
  {
   "cell_type": "code",
   "execution_count": null,
   "outputs": [],
   "source": [],
   "metadata": {
    "collapsed": false
   },
   "id": "b9a27ecf6626eebd"
  }
 ],
 "metadata": {
  "kernelspec": {
   "display_name": "Python 3",
   "language": "python",
   "name": "python3"
  },
  "language_info": {
   "codemirror_mode": {
    "name": "ipython",
    "version": 2
   },
   "file_extension": ".py",
   "mimetype": "text/x-python",
   "name": "python",
   "nbconvert_exporter": "python",
   "pygments_lexer": "ipython2",
   "version": "2.7.6"
  }
 },
 "nbformat": 4,
 "nbformat_minor": 5
}
