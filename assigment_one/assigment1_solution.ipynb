{
 "cells": [
  {
   "cell_type": "code",
   "execution_count": 1,
   "outputs": [
    {
     "name": "stdout",
     "output_type": "stream",
     "text": [
      "pygame 2.5.2 (SDL 2.28.2, Python 3.10.12)\n",
      "Hello from the pygame community. https://www.pygame.org/contribute.html\n"
     ]
    }
   ],
   "source": [
    "import copy \n",
    "import pygame\n",
    "import threading\n",
    "import time"
   ],
   "metadata": {
    "collapsed": false,
    "ExecuteTime": {
     "end_time": "2023-10-22T01:40:09.467320983Z",
     "start_time": "2023-10-22T01:40:09.363531421Z"
    }
   },
   "id": "680e31930d188c8c"
  },
  {
   "cell_type": "markdown",
   "source": [
    "# Visualize the game state"
   ],
   "metadata": {
    "collapsed": false
   },
   "id": "fcb3dac1eb177059"
  },
  {
   "cell_type": "code",
   "execution_count": 2,
   "outputs": [],
   "source": [
    "\n",
    "\n",
    "# Define puzzle board dimensions and colors\n",
    "WINDOW_SIZE = 300\n",
    "GRID_SIZE = 3\n",
    "GRID_WIDTH = WINDOW_SIZE // GRID_SIZE\n",
    "WHITE = (255, 255, 255)\n",
    "BLACK = (0, 0, 0)\n",
    "\n",
    "current_puzzle = None\n",
    "\n",
    "def draw_grid(screen):\n",
    "    for i in range(1, GRID_SIZE):\n",
    "        pygame.draw.line(screen, BLACK, (i * GRID_WIDTH, 0), (i * GRID_WIDTH, WINDOW_SIZE))\n",
    "        pygame.draw.line(screen, BLACK, (0, i * GRID_WIDTH), (WINDOW_SIZE, i * GRID_WIDTH))\n",
    "\n",
    "def draw_puzzle(screen, puzzle):\n",
    "    font = pygame.font.Font(None, 36)\n",
    "    for row in range(GRID_SIZE):\n",
    "        for col in range(GRID_SIZE):\n",
    "            cell_value = puzzle[row][col]\n",
    "            if cell_value != 0:\n",
    "                cell_text = font.render(str(cell_value), True, BLACK)\n",
    "                cell_rect = cell_text.get_rect(center=(col * GRID_WIDTH + GRID_WIDTH // 2, row * GRID_WIDTH + GRID_WIDTH // 2))\n",
    "                screen.blit(cell_text, cell_rect)\n",
    "\n",
    "def visualize_puzzle(puzzle):\n",
    "    # if a node is sent instead of a state get hold of the state instead\n",
    "    if isinstance(puzzle, Node):\n",
    "        puzzle = puzzle.get_state()\n",
    "        \n",
    "    global current_puzzle\n",
    "    current_puzzle = puzzle\n",
    "\n",
    "def visualize_path(path):\n",
    "    for puzzle in path:\n",
    "        visualize_puzzle(puzzle)\n",
    "        time.sleep(1)\n",
    "\n",
    "def puzzle_thread():\n",
    "    pygame.init()\n",
    "    screen = pygame.display.set_mode((WINDOW_SIZE, WINDOW_SIZE))\n",
    "    pygame.display.set_caption('8-Puzzle Visualization')\n",
    "\n",
    "    while True:\n",
    "        for event in pygame.event.get():\n",
    "            if event.type == pygame.QUIT:\n",
    "                pygame.quit()\n",
    "                return\n",
    "\n",
    "        if current_puzzle is not None:\n",
    "            screen.fill(WHITE)\n",
    "            draw_grid(screen)\n",
    "            draw_puzzle(screen, current_puzzle)\n",
    "            pygame.display.flip()\n",
    "\n",
    "def start_puzzle_thread():\n",
    "    thread = threading.Thread(target=puzzle_thread)\n",
    "    thread.daemon = True\n",
    "    thread.start()\n",
    "\n",
    "def stop_puzzle_thread():\n",
    "    pygame.quit()\n",
    "\n",
    "start_puzzle_thread()"
   ],
   "metadata": {
    "collapsed": false,
    "ExecuteTime": {
     "end_time": "2023-10-22T01:40:09.709698597Z",
     "start_time": "2023-10-22T01:40:09.470007733Z"
    }
   },
   "id": "9696943ac6fa63a2"
  },
  {
   "cell_type": "markdown",
   "source": [
    "# Graph implementation"
   ],
   "metadata": {
    "collapsed": false
   },
   "id": "a013ae7026d5ea27"
  },
  {
   "cell_type": "code",
   "execution_count": 3,
   "outputs": [],
   "source": [
    "class Node:\n",
    "    \n",
    "    GRID_SIZE = 3\n",
    "    \n",
    "    def __init__(self, state):\n",
    "        self.__state = copy.deepcopy(state)\n",
    "        self.__parent = None\n",
    "        self.__path = []\n",
    "        self.__children = []\n",
    "        self.__generate_children()            \n",
    "    \n",
    "    # generates all possible moves\n",
    "    def __generate_children(self):\n",
    "        self.__children = []\n",
    "        for i in range(self.GRID_SIZE):\n",
    "            for j in range(self.GRID_SIZE):\n",
    "                if self.__state[i][j] == 0:\n",
    "                    if i > 0:\n",
    "                        self.__children.append(self.swap(i, j, i - 1, j))\n",
    "                    if i < self.GRID_SIZE - 1:\n",
    "                        self.__children.append(self.swap(i, j, i + 1, j))\n",
    "                    if j > 0:\n",
    "                        self.__children.append(self.swap(i, j, i, j - 1))\n",
    "                    if j < self.GRID_SIZE - 1:\n",
    "                        self.__children.append(self.swap(i, j, i, j + 1))\n",
    "                    return self.__children\n",
    "        \n",
    "    def __str__(self):\n",
    "        return str(self.__state)    \n",
    "        \n",
    "    def __repr__(self):\n",
    "        return str(self.__state)\n",
    "    \n",
    "    # returns a state one move from the current state\n",
    "    def swap(self, x1, y1, x2, y2):\n",
    "        new_state = copy.deepcopy(self.__state)\n",
    "        new_state[x1][y1], new_state[x2][y2] = new_state[x2][y2], new_state[x1][y1] \n",
    "        return new_state\n",
    "    \n",
    "    def set_parent(self, parent):\n",
    "        self.__parent = parent\n",
    "        self.__path = parent.get_path()\n",
    "        self.__path.append(parent)\n",
    "    \n",
    "    def get_path(self):\n",
    "        return copy.copy(self.__path)\n",
    "    \n",
    "    def get_state(self):\n",
    "        return copy.deepcopy(self.__state)\n",
    "    \n",
    "    def get_children(self):\n",
    "        return copy.deepcopy(self.__children)\n",
    "    \n",
    "    def get_parent(self):\n",
    "        return self.__parent"
   ],
   "metadata": {
    "collapsed": false,
    "ExecuteTime": {
     "end_time": "2023-10-22T01:40:17.424378227Z",
     "start_time": "2023-10-22T01:40:17.301895682Z"
    }
   },
   "id": "425d20d076d6b695"
  },
  {
   "cell_type": "code",
   "execution_count": 4,
   "outputs": [],
   "source": [
    "puzzle1 = [\n",
    "    [1, 2, 3],\n",
    "    [8, 0, 4],\n",
    "    [7, 6, 5]\n",
    "]"
   ],
   "metadata": {
    "collapsed": false,
    "ExecuteTime": {
     "end_time": "2023-10-22T01:40:20.832215811Z",
     "start_time": "2023-10-22T01:40:20.738024271Z"
    }
   },
   "id": "24dafb13a74b837a"
  },
  {
   "cell_type": "code",
   "execution_count": 5,
   "outputs": [],
   "source": [
    "node = Node(puzzle1)\n",
    "visualize_puzzle(node)"
   ],
   "metadata": {
    "collapsed": false,
    "ExecuteTime": {
     "end_time": "2023-10-22T01:40:22.060249728Z",
     "start_time": "2023-10-22T01:40:22.035974876Z"
    }
   },
   "id": "3e12946d6817207d"
  },
  {
   "cell_type": "markdown",
   "source": [
    "# BFS"
   ],
   "metadata": {
    "collapsed": false
   },
   "id": "6be61a681aae688c"
  },
  {
   "cell_type": "code",
   "execution_count": 6,
   "outputs": [],
   "source": [
    "def BFS(node, target):\n",
    "    queue = [node]\n",
    "    visited = []\n",
    "    while queue:\n",
    "        current_node = queue.pop(0)\n",
    "        current_state = current_node.get_state()\n",
    "        visited.append(current_state)\n",
    "        \n",
    "        if current_state == target:\n",
    "            final_path = current_node.get_path()\n",
    "            final_path.append(current_node)\n",
    "            return final_path\n",
    "        \n",
    "        for child in current_node.get_children():\n",
    "            if child not in visited:\n",
    "                child = Node(child)\n",
    "                child.set_parent(current_node)\n",
    "                queue.append(child)\n",
    "    return None"
   ],
   "metadata": {
    "collapsed": false,
    "ExecuteTime": {
     "end_time": "2023-10-22T01:40:32.203864128Z",
     "start_time": "2023-10-22T01:40:32.178007442Z"
    }
   },
   "id": "7bfe8b026bb67a7b"
  },
  {
   "cell_type": "code",
   "execution_count": 7,
   "outputs": [
    {
     "data": {
      "text/plain": "[[[1, 2, 5], [3, 4, 8], [6, 7, 0]],\n [[1, 2, 5], [3, 4, 0], [6, 7, 8]],\n [[1, 2, 0], [3, 4, 5], [6, 7, 8]],\n [[1, 0, 2], [3, 4, 5], [6, 7, 8]],\n [[0, 1, 2], [3, 4, 5], [6, 7, 8]]]"
     },
     "execution_count": 7,
     "metadata": {},
     "output_type": "execute_result"
    }
   ],
   "source": [
    "target = [\n",
    "    [0, 1, 2],\n",
    "    [3, 4, 5],\n",
    "    [6, 7, 8]\n",
    "]\n",
    "\n",
    "puzzle1 = [\n",
    "    [1, 2, 5],\n",
    "    [3, 4, 8],\n",
    "    [6, 7, 0]\n",
    "]\n",
    "node = Node(puzzle1)\n",
    "# visualize_puzzle(node)\n",
    "\n",
    "path = BFS(node, target)\n",
    "path"
   ],
   "metadata": {
    "collapsed": false,
    "ExecuteTime": {
     "end_time": "2023-10-22T01:40:35.238097876Z",
     "start_time": "2023-10-22T01:40:35.223004652Z"
    }
   },
   "id": "5379bded18706dd5"
  },
  {
   "cell_type": "code",
   "execution_count": 8,
   "outputs": [],
   "source": [
    "visualize_path(path)"
   ],
   "metadata": {
    "collapsed": false,
    "ExecuteTime": {
     "end_time": "2023-10-22T01:40:47.269762154Z",
     "start_time": "2023-10-22T01:40:42.262629645Z"
    }
   },
   "id": "47f81c20ff792aa1"
  },
  {
   "cell_type": "markdown",
   "source": [
    "# DFS"
   ],
   "metadata": {
    "collapsed": false
   },
   "id": "b09d97c4dd55be40"
  },
  {
   "cell_type": "code",
   "execution_count": 9,
   "outputs": [],
   "source": [
    "def DFS(node, target):\n",
    "    stack = [node]\n",
    "    visited = []\n",
    "    while stack:\n",
    "        current_node = stack.pop()\n",
    "        current_state = current_node.get_state()\n",
    "        visited.append(current_state)\n",
    "        \n",
    "        if current_state == target:\n",
    "            final_path = current_node.get_path()\n",
    "            final_path.append(current_node)\n",
    "            return final_path\n",
    "        \n",
    "        for child in current_node.get_children():\n",
    "            if child not in visited:\n",
    "                child = Node(child)\n",
    "                child.set_parent(current_node)\n",
    "                stack.append(child)\n",
    "    return None"
   ],
   "metadata": {
    "collapsed": false,
    "ExecuteTime": {
     "end_time": "2023-10-22T01:41:02.864704167Z",
     "start_time": "2023-10-22T01:41:02.839509628Z"
    }
   },
   "id": "be372ca149a6dfae"
  },
  {
   "cell_type": "code",
   "execution_count": 10,
   "outputs": [
    {
     "data": {
      "text/plain": "[[[1, 2, 5], [6, 3, 4], [7, 8, 0]],\n [[1, 2, 5], [6, 3, 4], [7, 0, 8]],\n [[1, 2, 5], [6, 3, 4], [0, 7, 8]],\n [[1, 2, 5], [0, 3, 4], [6, 7, 8]],\n [[1, 2, 5], [3, 0, 4], [6, 7, 8]],\n [[1, 2, 5], [3, 4, 0], [6, 7, 8]],\n [[1, 2, 0], [3, 4, 5], [6, 7, 8]],\n [[1, 0, 2], [3, 4, 5], [6, 7, 8]],\n [[0, 1, 2], [3, 4, 5], [6, 7, 8]]]"
     },
     "execution_count": 10,
     "metadata": {},
     "output_type": "execute_result"
    }
   ],
   "source": [
    "target = [\n",
    "    [0, 1, 2],\n",
    "    [3, 4, 5],\n",
    "    [6, 7, 8]\n",
    "]\n",
    "\n",
    "puzzle1 = [\n",
    "    [1, 2, 5],\n",
    "    [6, 3, 4],\n",
    "    [7, 8, 0]\n",
    "]\n",
    "node = Node(puzzle1)\n",
    "# visualize_puzzle(node)\n",
    "\n",
    "path = BFS(node, target)\n",
    "path"
   ],
   "metadata": {
    "collapsed": false,
    "ExecuteTime": {
     "end_time": "2023-10-22T01:41:04.810690138Z",
     "start_time": "2023-10-22T01:41:04.751781081Z"
    }
   },
   "id": "849e7302c12e106a"
  },
  {
   "cell_type": "code",
   "execution_count": 11,
   "outputs": [],
   "source": [
    "visualize_path(path)"
   ],
   "metadata": {
    "collapsed": false,
    "ExecuteTime": {
     "end_time": "2023-10-22T01:41:18.781008650Z",
     "start_time": "2023-10-22T01:41:09.770573051Z"
    }
   },
   "id": "558e4cd9f3d22626"
  },
  {
   "cell_type": "markdown",
   "source": [
    "# A*"
   ],
   "metadata": {
    "collapsed": false
   },
   "id": "c2da9a192e7ac2df"
  },
  {
   "cell_type": "code",
   "execution_count": 12,
   "outputs": [],
   "source": [
    "import heapq"
   ],
   "metadata": {
    "collapsed": false,
    "ExecuteTime": {
     "end_time": "2023-10-22T01:41:21.954186065Z",
     "start_time": "2023-10-22T01:41:21.948519589Z"
    }
   },
   "id": "44e0bc27bceef551"
  },
  {
   "cell_type": "code",
   "execution_count": 13,
   "outputs": [],
   "source": [
    "def manhatten_estimate_cost(state):\n",
    "    cost = 0\n",
    "    for i in range(len(state)):\n",
    "        for j in range(len(state)):\n",
    "            value = state[i][j]\n",
    "            if value != 0:\n",
    "                target_row, target_col = value // 3, value % 3\n",
    "                cost += abs(i - target_row) + abs(j - target_col)\n",
    "    return cost"
   ],
   "metadata": {
    "collapsed": false,
    "ExecuteTime": {
     "end_time": "2023-10-22T01:41:24.136831793Z",
     "start_time": "2023-10-22T01:41:24.128711462Z"
    }
   },
   "id": "5ad7dbf5577dabd6"
  },
  {
   "cell_type": "code",
   "execution_count": 22,
   "outputs": [],
   "source": [
    "def eaclidean_estimate_cost(state):\n",
    "    cost = 0\n",
    "    for i in range(len(state)):\n",
    "        for j in range(len(state)):\n",
    "            value = state[i][j]\n",
    "            if value != 0:\n",
    "                target_row, target_col = value // 3, value % 3\n",
    "                cost += ((i - target_row)**2 + (j - target_col)**2)**0.5\n",
    "    return cost"
   ],
   "metadata": {
    "collapsed": false,
    "ExecuteTime": {
     "end_time": "2023-10-22T01:46:45.183988541Z",
     "start_time": "2023-10-22T01:46:45.136680600Z"
    }
   },
   "id": "14634379fb6ec4ad"
  },
  {
   "cell_type": "code",
   "execution_count": 15,
   "outputs": [],
   "source": [
    "def a_star(node, target, estimate_function=manhatten_estimate_cost):\n",
    "    \n",
    "    # Q values are tuples (weight, insert_order, node). insert order is used to break ties\n",
    "    queue = [(0, 0, node)]\n",
    "    \n",
    "    # Q inserts counter\n",
    "    i = 1\n",
    "    \n",
    "    visited = []\n",
    "    while queue:\n",
    "        \n",
    "        # pop the node with the lowest weight\n",
    "        current_node = heapq.heappop(queue)[-1]\n",
    "        current_state = current_node.get_state()\n",
    "        visited.append(current_state)\n",
    "        \n",
    "        # check if goal state is reached\n",
    "        if current_state == target:\n",
    "            final_path = current_node.get_path()\n",
    "            final_path.append(current_node)\n",
    "            return final_path, len(visited)\n",
    "        \n",
    "        for child in current_node.get_children():\n",
    "            if child not in visited:\n",
    "                child = Node(child)\n",
    "                child.set_parent(current_node)\n",
    "                \n",
    "                # calculate weight by adding the manhatten distance to goal and the path length\n",
    "                h_n = len(child.get_path())\n",
    "                g_n = manhatten_estimate_cost(child.get_state())\n",
    "                weight = h_n + g_n\n",
    "                \n",
    "                # push to priority queue\n",
    "                heapq.heappush(queue, (weight, i, child))\n",
    "                i+=1\n",
    "    return None"
   ],
   "metadata": {
    "collapsed": false,
    "ExecuteTime": {
     "start_time": "2023-10-22T01:41:26.747378428Z"
    }
   },
   "id": "e7a1239ecd25251b"
  },
  {
   "cell_type": "code",
   "execution_count": 28,
   "outputs": [],
   "source": [
    "target = [\n",
    "    [0, 1, 2],\n",
    "    [3, 4, 5],\n",
    "    [6, 7, 8]\n",
    "]\n",
    "\n",
    "puzzle1 = [\n",
    "    [1, 2, 0],\n",
    "    [6, 3, 5],\n",
    "    [7, 8, 4]\n",
    "]\n",
    "node = Node(puzzle1)\n"
   ],
   "metadata": {
    "collapsed": false,
    "ExecuteTime": {
     "start_time": "2023-10-22T01:49:20.576737222Z"
    }
   },
   "id": "4bd84c068dd4ba1e"
  },
  {
   "cell_type": "code",
   "execution_count": 31,
   "outputs": [
    {
     "data": {
      "text/plain": "'visited nodes: 16, path length: 11, time taken: 0.004082679748535156'"
     },
     "execution_count": 31,
     "metadata": {},
     "output_type": "execute_result"
    }
   ],
   "source": [
    "t = time.time()\n",
    "path, visited_nodes = a_star(node, target, estimate_function=manhatten_estimate_cost)\n",
    "t2 = time.time()\n",
    "time_taken = t2 - t\n",
    "visualize_path(path)\n",
    "f'visited nodes: {visited_nodes}, path length: {len(path)}, time taken: {time_taken}' "
   ],
   "metadata": {
    "collapsed": false,
    "ExecuteTime": {
     "end_time": "2023-10-22T01:50:26.243378143Z",
     "start_time": "2023-10-22T01:50:15.222004566Z"
    }
   },
   "id": "165381712bce06db"
  },
  {
   "cell_type": "code",
   "execution_count": 33,
   "outputs": [
    {
     "data": {
      "text/plain": "'visited nodes: 16, path length: 11, time taken: 0.002479076385498047'"
     },
     "execution_count": 33,
     "metadata": {},
     "output_type": "execute_result"
    }
   ],
   "source": [
    "t = time.time()\n",
    "path, visited_nodes = a_star(node, target, estimate_function=eaclidean_estimate_cost)\n",
    "t2 = time.time()\n",
    "time_taken = t2 - t\n",
    "\n",
    "visualize_path(path)\n",
    "f'visited nodes: {visited_nodes}, path length: {len(path)}, time taken: {time_taken}' "
   ],
   "metadata": {
    "collapsed": false,
    "ExecuteTime": {
     "end_time": "2023-10-22T01:50:45.598739699Z",
     "start_time": "2023-10-22T01:50:34.540640109Z"
    }
   },
   "id": "ac362487814480ee"
  }
 ],
 "metadata": {
  "kernelspec": {
   "display_name": "Python 3",
   "language": "python",
   "name": "python3"
  },
  "language_info": {
   "codemirror_mode": {
    "name": "ipython",
    "version": 2
   },
   "file_extension": ".py",
   "mimetype": "text/x-python",
   "name": "python",
   "nbconvert_exporter": "python",
   "pygments_lexer": "ipython2",
   "version": "2.7.6"
  }
 },
 "nbformat": 4,
 "nbformat_minor": 5
}
