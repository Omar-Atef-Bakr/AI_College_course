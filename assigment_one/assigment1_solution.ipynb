{
 "cells": [
  {
   "cell_type": "code",
   "execution_count": 2,
   "outputs": [
    {
     "name": "stdout",
     "output_type": "stream",
     "text": [
      "pygame 2.5.2 (SDL 2.28.2, Python 3.10.12)\n",
      "Hello from the pygame community. https://www.pygame.org/contribute.html\n"
     ]
    }
   ],
   "source": [
    "import copy \n",
    "import pygame\n",
    "import threading\n",
    "import time"
   ],
   "metadata": {
    "collapsed": false,
    "ExecuteTime": {
     "end_time": "2023-11-04T08:03:26.274138204Z",
     "start_time": "2023-11-04T08:03:26.114312340Z"
    }
   },
   "id": "680e31930d188c8c"
  },
  {
   "cell_type": "markdown",
   "source": [
    "# Visualize the game state"
   ],
   "metadata": {
    "collapsed": false
   },
   "id": "fcb3dac1eb177059"
  },
  {
   "cell_type": "code",
   "execution_count": 3,
   "outputs": [],
   "source": [
    "\n",
    "\n",
    "# Define puzzle board dimensions and colors\n",
    "WINDOW_SIZE = 300\n",
    "GRID_SIZE = 3\n",
    "GRID_WIDTH = WINDOW_SIZE // GRID_SIZE\n",
    "WHITE = (255, 255, 255)\n",
    "BLACK = (0, 0, 0)\n",
    "\n",
    "current_puzzle = None\n",
    "path = None\n",
    "path_index = 0\n",
    "\n",
    "def draw_grid(screen):\n",
    "    for i in range(1, GRID_SIZE):\n",
    "        pygame.draw.line(screen, BLACK, (i * GRID_WIDTH, 0), (i * GRID_WIDTH, WINDOW_SIZE))\n",
    "        pygame.draw.line(screen, BLACK, (0, i * GRID_WIDTH), (WINDOW_SIZE, i * GRID_WIDTH))\n",
    "\n",
    "def draw_puzzle(screen, puzzle):\n",
    "    font = pygame.font.Font(None, 36)\n",
    "    for row in range(GRID_SIZE):\n",
    "        for col in range(GRID_SIZE):\n",
    "            cell_value = puzzle[row][col]\n",
    "            if cell_value != 0:\n",
    "                cell_text = font.render(str(cell_value), True, BLACK)\n",
    "                cell_rect = cell_text.get_rect(center=(col * GRID_WIDTH + GRID_WIDTH // 2, row * GRID_WIDTH + GRID_WIDTH // 2))\n",
    "                screen.blit(cell_text, cell_rect)\n",
    "\n",
    "def visualize_puzzle(puzzle):\n",
    "    # if a node is sent instead of a state get hold of the state instead\n",
    "    if isinstance(puzzle, Node):\n",
    "        puzzle = puzzle.get_state()\n",
    "        \n",
    "    global current_puzzle\n",
    "    current_puzzle = puzzle\n",
    "\n",
    "def next_state():\n",
    "    global path\n",
    "    global path_index\n",
    "    \n",
    "    if path_index >= len(path):\n",
    "        print(\"!!!Path ended!!!\")\n",
    "        return \n",
    "    \n",
    "    visualize_puzzle(path[path_index].getstate())\n",
    "    path_index += 1\n",
    "\n",
    "def prev_state():\n",
    "    global path\n",
    "    global path_index\n",
    "    \n",
    "    if path_index <= 0:\n",
    "        print(\"!!!First State!!!\")\n",
    "        return \n",
    "    \n",
    "    visualize_puzzle(path[path_index].getstate())\n",
    "    path_index += 1\n",
    "\n",
    "def visualize_path(p):\n",
    "    global path\n",
    "    path = p\n",
    "    \n",
    "    for puzzle in path:\n",
    "        visualize_puzzle(puzzle)\n",
    "        time.sleep(1)\n",
    "\n",
    "def puzzle_thread():\n",
    "    pygame.init()\n",
    "    screen = pygame.display.set_mode((WINDOW_SIZE, WINDOW_SIZE))\n",
    "    pygame.display.set_caption('8-Puzzle Visualization')\n",
    "\n",
    "    while True:\n",
    "        for event in pygame.event.get():\n",
    "            if event.type == pygame.QUIT:\n",
    "                pygame.quit()\n",
    "                return\n",
    "\n",
    "        if current_puzzle is not None:\n",
    "            screen.fill(WHITE)\n",
    "            draw_grid(screen)\n",
    "            draw_puzzle(screen, current_puzzle)\n",
    "            pygame.display.flip()\n",
    "\n",
    "def start_puzzle_thread():\n",
    "    thread = threading.Thread(target=puzzle_thread)\n",
    "    thread.daemon = True\n",
    "    thread.start()\n",
    "\n",
    "def stop_puzzle_thread():\n",
    "    pygame.quit()\n",
    "\n",
    "start_puzzle_thread()"
   ],
   "metadata": {
    "collapsed": false,
    "ExecuteTime": {
     "end_time": "2023-11-04T08:03:26.812444648Z",
     "start_time": "2023-11-04T08:03:26.568380865Z"
    }
   },
   "id": "9696943ac6fa63a2"
  },
  {
   "cell_type": "markdown",
   "source": [
    "# Graph implementation"
   ],
   "metadata": {
    "collapsed": false
   },
   "id": "a013ae7026d5ea27"
  },
  {
   "cell_type": "code",
   "execution_count": 4,
   "outputs": [],
   "source": [
    "class Node:\n",
    "    \n",
    "    GRID_SIZE = 3\n",
    "    \n",
    "    def __init__(self, state):\n",
    "        self.__state = copy.deepcopy(state)\n",
    "        self.__parent = None\n",
    "        self.__path = []\n",
    "        self.__children = []\n",
    "        self.__generate_children()            \n",
    "    \n",
    "    # generates all possible moves\n",
    "    def __generate_children(self):\n",
    "        self.__children = []\n",
    "        for i in range(self.GRID_SIZE):\n",
    "            for j in range(self.GRID_SIZE):\n",
    "                if self.__state[i][j] == 0:\n",
    "                    if i > 0:\n",
    "                        self.__children.append(self.swap(i, j, i - 1, j))\n",
    "                    if i < self.GRID_SIZE - 1:\n",
    "                        self.__children.append(self.swap(i, j, i + 1, j))\n",
    "                    if j > 0:\n",
    "                        self.__children.append(self.swap(i, j, i, j - 1))\n",
    "                    if j < self.GRID_SIZE - 1:\n",
    "                        self.__children.append(self.swap(i, j, i, j + 1))\n",
    "                    return self.__children\n",
    "        \n",
    "    def __str__(self):\n",
    "        return str(self.__state)    \n",
    "        \n",
    "    def __repr__(self):\n",
    "        return str(self.__state)\n",
    "    \n",
    "    # returns a state one move from the current state\n",
    "    def swap(self, x1, y1, x2, y2):\n",
    "        new_state = copy.deepcopy(self.__state)\n",
    "        new_state[x1][y1], new_state[x2][y2] = new_state[x2][y2], new_state[x1][y1] \n",
    "        return new_state\n",
    "    \n",
    "    def set_parent(self, parent):\n",
    "        self.__parent = parent\n",
    "        self.__path = parent.get_path()\n",
    "        self.__path.append(parent)\n",
    "    \n",
    "    def get_path(self):\n",
    "        return copy.copy(self.__path)\n",
    "    \n",
    "    def get_state(self):\n",
    "        return copy.deepcopy(self.__state)\n",
    "    \n",
    "    def get_children(self):\n",
    "        return copy.deepcopy(self.__children)\n",
    "    \n",
    "    def get_parent(self):\n",
    "        return self.__parent"
   ],
   "metadata": {
    "collapsed": false,
    "ExecuteTime": {
     "end_time": "2023-11-04T08:03:38.233542814Z",
     "start_time": "2023-11-04T08:03:38.158320257Z"
    }
   },
   "id": "425d20d076d6b695"
  },
  {
   "cell_type": "code",
   "execution_count": 5,
   "outputs": [],
   "source": [
    "puzzle1 = [\n",
    "    [1, 2, 3],\n",
    "    [8, 0, 4],\n",
    "    [7, 6, 5]\n",
    "]"
   ],
   "metadata": {
    "collapsed": false,
    "ExecuteTime": {
     "end_time": "2023-11-04T08:03:38.808769644Z",
     "start_time": "2023-11-04T08:03:38.714503588Z"
    }
   },
   "id": "24dafb13a74b837a"
  },
  {
   "cell_type": "code",
   "execution_count": 6,
   "outputs": [],
   "source": [
    "node = Node(puzzle1)\n",
    "visualize_puzzle(node)"
   ],
   "metadata": {
    "collapsed": false,
    "ExecuteTime": {
     "end_time": "2023-11-04T08:03:39.022927053Z",
     "start_time": "2023-11-04T08:03:38.998677898Z"
    }
   },
   "id": "3e12946d6817207d"
  },
  {
   "cell_type": "markdown",
   "source": [
    "# BFS"
   ],
   "metadata": {
    "collapsed": false
   },
   "id": "6be61a681aae688c"
  },
  {
   "cell_type": "code",
   "execution_count": 7,
   "outputs": [],
   "source": [
    "def BFS(node, target):\n",
    "    queue = [node]\n",
    "    visited = []\n",
    "    while queue:\n",
    "        current_node = queue.pop(0)\n",
    "        current_state = current_node.get_state()\n",
    "        visited.append(current_state)\n",
    "        \n",
    "        if current_state == target:\n",
    "            final_path = current_node.get_path()\n",
    "            final_path.append(current_node)\n",
    "            return final_path, len(visited)\n",
    "        \n",
    "        if len(visited) % 1000 == 0:\n",
    "            print(f'visited nodes: {len(visited)}, queue size: {len(queue)}')\n",
    "        \n",
    "        for child in current_node.get_children():\n",
    "            if child not in visited:\n",
    "                child = Node(child)\n",
    "                child.set_parent(current_node)\n",
    "                queue.append(child)\n",
    "    return None"
   ],
   "metadata": {
    "collapsed": false,
    "ExecuteTime": {
     "end_time": "2023-11-04T08:03:40.413765821Z",
     "start_time": "2023-11-04T08:03:40.396828364Z"
    }
   },
   "id": "7bfe8b026bb67a7b"
  },
  {
   "cell_type": "code",
   "execution_count": 8,
   "outputs": [],
   "source": [
    "target = [\n",
    "    [0, 1, 2],\n",
    "    [3, 4, 5],\n",
    "    [6, 7, 8]\n",
    "]\n",
    "\n",
    "puzzle1 = [\n",
    "    [1, 2, 5],\n",
    "    [3, 4, 8],\n",
    "    [6, 7, 0]\n",
    "]\n",
    "node = Node(puzzle1)\n",
    "# visualize_puzzle(node)"
   ],
   "metadata": {
    "collapsed": false,
    "ExecuteTime": {
     "end_time": "2023-11-04T08:03:40.887435675Z",
     "start_time": "2023-11-04T08:03:40.870200191Z"
    }
   },
   "id": "89e316e34d3c1bcf"
  },
  {
   "cell_type": "code",
   "execution_count": 9,
   "outputs": [
    {
     "data": {
      "text/plain": "'visited nodes: 17, path length: 5, time taken: 0.0021538734436035156'"
     },
     "execution_count": 9,
     "metadata": {},
     "output_type": "execute_result"
    }
   ],
   "source": [
    "visualize_puzzle(node)\n",
    "t1 = time.time()\n",
    "path, nodes_visited = BFS(node, target)\n",
    "t2 = time.time()\n",
    "time_taken = t2 - t1\n",
    "f'visited nodes: {nodes_visited}, path length: {len(path)}, time taken: {time_taken}'"
   ],
   "metadata": {
    "collapsed": false,
    "ExecuteTime": {
     "end_time": "2023-11-04T08:03:41.780237649Z",
     "start_time": "2023-11-04T08:03:41.760078703Z"
    }
   },
   "id": "5379bded18706dd5"
  },
  {
   "cell_type": "code",
   "execution_count": 10,
   "outputs": [],
   "source": [
    "visualize_path(path)"
   ],
   "metadata": {
    "collapsed": false,
    "ExecuteTime": {
     "end_time": "2023-11-04T08:03:47.570472226Z",
     "start_time": "2023-11-04T08:03:42.557992481Z"
    }
   },
   "id": "47f81c20ff792aa1"
  },
  {
   "cell_type": "markdown",
   "source": [
    "# DFS"
   ],
   "metadata": {
    "collapsed": false
   },
   "id": "b09d97c4dd55be40"
  },
  {
   "cell_type": "code",
   "execution_count": 11,
   "outputs": [],
   "source": [
    "def DFS(node, target):\n",
    "    stack = [node]\n",
    "    visited = []\n",
    "    while stack:\n",
    "        current_node = stack.pop()\n",
    "        current_state = current_node.get_state()\n",
    "        visited.append(current_state)\n",
    "        \n",
    "        if current_state == target:\n",
    "            final_path = current_node.get_path()\n",
    "            final_path.append(current_node)\n",
    "            return final_path, len(visited)\n",
    "        \n",
    "        if len(visited) % 1000 == 0:\n",
    "            print(f'visited nodes: {len(visited)}, stack size: {len(stack)}')\n",
    "            \n",
    "        for child in current_node.get_children():\n",
    "            if child not in visited:\n",
    "                child = Node(child)\n",
    "                child.set_parent(current_node)\n",
    "                stack.append(child)\n",
    "    return None"
   ],
   "metadata": {
    "collapsed": false,
    "ExecuteTime": {
     "end_time": "2023-11-04T08:03:50.728185565Z",
     "start_time": "2023-11-04T08:03:50.700327038Z"
    }
   },
   "id": "be372ca149a6dfae"
  },
  {
   "cell_type": "code",
   "execution_count": 12,
   "outputs": [],
   "source": [
    "target = [\n",
    "    [0, 1, 2],\n",
    "    [3, 4, 5],\n",
    "    [6, 7, 8]\n",
    "]\n",
    "\n",
    "puzzle1 = [\n",
    "    [1, 2, 5],\n",
    "    [6, 3, 4],\n",
    "    [7, 8, 0]\n",
    "]\n",
    "node = Node(puzzle1)\n",
    "# visualize_puzzle(node)"
   ],
   "metadata": {
    "collapsed": false,
    "ExecuteTime": {
     "end_time": "2023-11-04T08:03:51.660902917Z",
     "start_time": "2023-11-04T08:03:51.643981227Z"
    }
   },
   "id": "a2ea3c99b0edc68c"
  },
  {
   "cell_type": "code",
   "execution_count": null,
   "outputs": [
    {
     "name": "stdout",
     "output_type": "stream",
     "text": [
      "visited nodes: 1000, stack size: 750\n",
      "visited nodes: 2000, stack size: 1489\n",
      "visited nodes: 3000, stack size: 2208\n",
      "visited nodes: 4000, stack size: 2944\n",
      "visited nodes: 5000, stack size: 3679\n",
      "visited nodes: 6000, stack size: 4426\n",
      "visited nodes: 7000, stack size: 5166\n",
      "visited nodes: 8000, stack size: 5886\n",
      "visited nodes: 9000, stack size: 6616\n",
      "visited nodes: 10000, stack size: 7352\n",
      "visited nodes: 11000, stack size: 8076\n",
      "visited nodes: 12000, stack size: 8785\n",
      "visited nodes: 13000, stack size: 9512\n",
      "visited nodes: 14000, stack size: 10233\n",
      "visited nodes: 15000, stack size: 10936\n",
      "visited nodes: 16000, stack size: 11638\n",
      "visited nodes: 17000, stack size: 12343\n",
      "visited nodes: 18000, stack size: 13078\n",
      "visited nodes: 19000, stack size: 13791\n",
      "visited nodes: 20000, stack size: 14511\n",
      "visited nodes: 21000, stack size: 15231\n",
      "visited nodes: 22000, stack size: 15910\n",
      "visited nodes: 23000, stack size: 16614\n",
      "visited nodes: 24000, stack size: 17301\n",
      "visited nodes: 25000, stack size: 17992\n",
      "visited nodes: 26000, stack size: 18693\n",
      "visited nodes: 27000, stack size: 19408\n",
      "visited nodes: 28000, stack size: 20118\n",
      "visited nodes: 29000, stack size: 20792\n",
      "visited nodes: 30000, stack size: 21490\n",
      "visited nodes: 31000, stack size: 22163\n",
      "visited nodes: 32000, stack size: 22868\n",
      "visited nodes: 33000, stack size: 23544\n"
     ]
    }
   ],
   "source": [
    "t1 = time.time()\n",
    "path, nodes_visited = DFS(node, target)\n",
    "t2 = time.time()\n",
    "time_taken = t2 - t1\n",
    "\n",
    "f'visited nodes: {nodes_visited}, path length: {len(path)}, time taken: {time_taken}'"
   ],
   "metadata": {
    "collapsed": false,
    "is_executing": true,
    "ExecuteTime": {
     "start_time": "2023-11-04T08:03:54.172344149Z"
    }
   },
   "id": "849e7302c12e106a"
  },
  {
   "cell_type": "code",
   "execution_count": null,
   "outputs": [],
   "source": [
    "visualize_path(path)"
   ],
   "metadata": {
    "collapsed": false,
    "ExecuteTime": {
     "start_time": "2023-11-04T08:02:07.809739555Z"
    }
   },
   "id": "558e4cd9f3d22626"
  },
  {
   "cell_type": "markdown",
   "source": [
    "# A*"
   ],
   "metadata": {
    "collapsed": false
   },
   "id": "c2da9a192e7ac2df"
  },
  {
   "cell_type": "code",
   "execution_count": null,
   "outputs": [],
   "source": [
    "import heapq"
   ],
   "metadata": {
    "collapsed": false,
    "is_executing": true
   },
   "id": "44e0bc27bceef551"
  },
  {
   "cell_type": "code",
   "execution_count": null,
   "outputs": [],
   "source": [
    "def manhatten_estimate_cost(state):\n",
    "    cost = 0\n",
    "    for i in range(len(state)):\n",
    "        for j in range(len(state)):\n",
    "            value = state[i][j]\n",
    "            if value != 0:\n",
    "                target_row, target_col = value // 3, value % 3\n",
    "                cost += abs(i - target_row) + abs(j - target_col)\n",
    "    return cost"
   ],
   "metadata": {
    "collapsed": false,
    "is_executing": true
   },
   "id": "5ad7dbf5577dabd6"
  },
  {
   "cell_type": "code",
   "execution_count": null,
   "outputs": [],
   "source": [
    "def eaclidean_estimate_cost(state):\n",
    "    cost = 0\n",
    "    for i in range(len(state)):\n",
    "        for j in range(len(state)):\n",
    "            value = state[i][j]\n",
    "            if value != 0:\n",
    "                target_row, target_col = value // 3, value % 3\n",
    "                cost += ((i - target_row)**2 + (j - target_col)**2)**0.5\n",
    "    return cost"
   ],
   "metadata": {
    "collapsed": false,
    "is_executing": true
   },
   "id": "14634379fb6ec4ad"
  },
  {
   "cell_type": "code",
   "execution_count": null,
   "outputs": [],
   "source": [
    "def a_star(node, target, estimate_function=manhatten_estimate_cost):\n",
    "    \n",
    "    # Q values are tuples (weight, insert_order, node). insert order is used to break ties\n",
    "    queue = [(0, 0, node)]\n",
    "    \n",
    "    # Q inserts counter\n",
    "    i = 1\n",
    "    \n",
    "    visited = []\n",
    "    while queue:\n",
    "        \n",
    "        # pop the node with the lowest weight\n",
    "        current_node = heapq.heappop(queue)[-1]\n",
    "        current_state = current_node.get_state()\n",
    "        visited.append(current_state)\n",
    "        \n",
    "        # check if goal state is reached\n",
    "        if current_state == target:\n",
    "            final_path = current_node.get_path()\n",
    "            final_path.append(current_node)\n",
    "            return final_path, len(visited)\n",
    "        \n",
    "        if len(visited) % 1000 == 0:\n",
    "            print(f'visited nodes: {len(visited)}, queue size: {len(queue)}')\n",
    "        \n",
    "        for child in current_node.get_children():\n",
    "            if child not in visited:\n",
    "                child = Node(child)\n",
    "                child.set_parent(current_node)\n",
    "                \n",
    "                # calculate weight by adding the manhatten distance to goal and the path length\n",
    "                h_n = len(child.get_path())\n",
    "                g_n = manhatten_estimate_cost(child.get_state())\n",
    "                weight = h_n + g_n\n",
    "                \n",
    "                # push to priority queue\n",
    "                heapq.heappush(queue, (weight, i, child))\n",
    "                i+=1\n",
    "    return None"
   ],
   "metadata": {
    "collapsed": false,
    "is_executing": true
   },
   "id": "e7a1239ecd25251b"
  },
  {
   "cell_type": "code",
   "execution_count": null,
   "outputs": [],
   "source": [
    "target = [\n",
    "    [0, 1, 2],\n",
    "    [3, 4, 5],\n",
    "    [6, 7, 8]\n",
    "]\n",
    "\n",
    "puzzle1 = [\n",
    "    [0, 1, 2],\n",
    "    [5, 3, 4],\n",
    "    [8, 6, 7]\n",
    "]\n",
    "node = Node(puzzle1)\n",
    "visualize_puzzle(node)"
   ],
   "metadata": {
    "collapsed": false,
    "is_executing": true
   },
   "id": "4bd84c068dd4ba1e"
  },
  {
   "cell_type": "code",
   "execution_count": null,
   "outputs": [],
   "source": [
    "t = time.time()\n",
    "path, visited_nodes = a_star(node, target, estimate_function=manhatten_estimate_cost)\n",
    "t2 = time.time()\n",
    "time_taken = t2 - t\n",
    "visualize_path(path)\n",
    "f'visited nodes: {visited_nodes}, path length: {len(path)}, time taken: {time_taken}' "
   ],
   "metadata": {
    "collapsed": false,
    "is_executing": true
   },
   "id": "165381712bce06db"
  },
  {
   "cell_type": "code",
   "execution_count": null,
   "outputs": [],
   "source": [
    "t = time.time()\n",
    "path, visited_nodes = a_star(node, target, estimate_function=eaclidean_estimate_cost)\n",
    "t2 = time.time()\n",
    "time_taken = t2 - t\n",
    "\n",
    "visualize_path(path)\n",
    "f'visited nodes: {visited_nodes}, path length: {len(path)}, time taken: {time_taken}' "
   ],
   "metadata": {
    "collapsed": false,
    "is_executing": true
   },
   "id": "ac362487814480ee"
  },
  {
   "cell_type": "code",
   "execution_count": null,
   "outputs": [],
   "source": [],
   "metadata": {
    "collapsed": false
   },
   "id": "b9a27ecf6626eebd"
  }
 ],
 "metadata": {
  "kernelspec": {
   "display_name": "Python 3",
   "language": "python",
   "name": "python3"
  },
  "language_info": {
   "codemirror_mode": {
    "name": "ipython",
    "version": 2
   },
   "file_extension": ".py",
   "mimetype": "text/x-python",
   "name": "python",
   "nbconvert_exporter": "python",
   "pygments_lexer": "ipython2",
   "version": "2.7.6"
  }
 },
 "nbformat": 4,
 "nbformat_minor": 5
}
