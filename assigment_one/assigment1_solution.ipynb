{
 "cells": [
  {
   "cell_type": "code",
   "execution_count": 1,
   "outputs": [
    {
     "name": "stdout",
     "output_type": "stream",
     "text": [
      "pygame 2.5.2 (SDL 2.28.2, Python 3.10.12)\n",
      "Hello from the pygame community. https://www.pygame.org/contribute.html\n"
     ]
    }
   ],
   "source": [
    "import copy \n",
    "import pygame\n",
    "import threading\n",
    "import time"
   ],
   "metadata": {
    "collapsed": false,
    "ExecuteTime": {
     "end_time": "2023-10-23T01:54:03.690447876Z",
     "start_time": "2023-10-23T01:54:03.481424811Z"
    }
   },
   "id": "680e31930d188c8c"
  },
  {
   "cell_type": "markdown",
   "source": [
    "# Visualize the game state"
   ],
   "metadata": {
    "collapsed": false
   },
   "id": "fcb3dac1eb177059"
  },
  {
   "cell_type": "code",
   "execution_count": 2,
   "outputs": [],
   "source": [
    "\n",
    "\n",
    "# Define puzzle board dimensions and colors\n",
    "WINDOW_SIZE = 300\n",
    "GRID_SIZE = 3\n",
    "GRID_WIDTH = WINDOW_SIZE // GRID_SIZE\n",
    "WHITE = (255, 255, 255)\n",
    "BLACK = (0, 0, 0)\n",
    "\n",
    "current_puzzle = None\n",
    "\n",
    "def draw_grid(screen):\n",
    "    for i in range(1, GRID_SIZE):\n",
    "        pygame.draw.line(screen, BLACK, (i * GRID_WIDTH, 0), (i * GRID_WIDTH, WINDOW_SIZE))\n",
    "        pygame.draw.line(screen, BLACK, (0, i * GRID_WIDTH), (WINDOW_SIZE, i * GRID_WIDTH))\n",
    "\n",
    "def draw_puzzle(screen, puzzle):\n",
    "    font = pygame.font.Font(None, 36)\n",
    "    for row in range(GRID_SIZE):\n",
    "        for col in range(GRID_SIZE):\n",
    "            cell_value = puzzle[row][col]\n",
    "            if cell_value != 0:\n",
    "                cell_text = font.render(str(cell_value), True, BLACK)\n",
    "                cell_rect = cell_text.get_rect(center=(col * GRID_WIDTH + GRID_WIDTH // 2, row * GRID_WIDTH + GRID_WIDTH // 2))\n",
    "                screen.blit(cell_text, cell_rect)\n",
    "\n",
    "def visualize_puzzle(puzzle):\n",
    "    # if a node is sent instead of a state get hold of the state instead\n",
    "    if isinstance(puzzle, Node):\n",
    "        puzzle = puzzle.get_state()\n",
    "        \n",
    "    global current_puzzle\n",
    "    current_puzzle = puzzle\n",
    "\n",
    "def visualize_path(path):\n",
    "    for puzzle in path:\n",
    "        visualize_puzzle(puzzle)\n",
    "        time.sleep(1)\n",
    "\n",
    "def puzzle_thread():\n",
    "    pygame.init()\n",
    "    screen = pygame.display.set_mode((WINDOW_SIZE, WINDOW_SIZE))\n",
    "    pygame.display.set_caption('8-Puzzle Visualization')\n",
    "\n",
    "    while True:\n",
    "        for event in pygame.event.get():\n",
    "            if event.type == pygame.QUIT:\n",
    "                pygame.quit()\n",
    "                return\n",
    "\n",
    "        if current_puzzle is not None:\n",
    "            screen.fill(WHITE)\n",
    "            draw_grid(screen)\n",
    "            draw_puzzle(screen, current_puzzle)\n",
    "            pygame.display.flip()\n",
    "\n",
    "def start_puzzle_thread():\n",
    "    thread = threading.Thread(target=puzzle_thread)\n",
    "    thread.daemon = True\n",
    "    thread.start()\n",
    "\n",
    "def stop_puzzle_thread():\n",
    "    pygame.quit()\n",
    "\n",
    "start_puzzle_thread()"
   ],
   "metadata": {
    "collapsed": false,
    "ExecuteTime": {
     "end_time": "2023-10-23T01:54:03.984156855Z",
     "start_time": "2023-10-23T01:54:03.733823338Z"
    }
   },
   "id": "9696943ac6fa63a2"
  },
  {
   "cell_type": "markdown",
   "source": [
    "# Check if a puzzle is solvable"
   ],
   "metadata": {
    "collapsed": false
   },
   "id": "8576f076fc55903e"
  },
  {
   "cell_type": "code",
   "execution_count": 44,
   "outputs": [],
   "source": [
    "def is_solvable(puzzle):\n",
    "    inversions = 0\n",
    "    # rows\n",
    "    for i in range(len(puzzle)):\n",
    "        # columns\n",
    "        for j in range(len(puzzle)):\n",
    "            # compare with all elements after the current element\n",
    "            for k in range(i, len(puzzle)):\n",
    "                start = 0\n",
    "                # if the current row is the same as the current element, start from the next column\n",
    "                if k == i:\n",
    "                    start = j + 1\n",
    "                # compare with all elements in the row\n",
    "                for l in range(start, len(puzzle)):\n",
    "                    if puzzle[i][j] != 0 and puzzle[k][l] != 0 and puzzle[i][j] > puzzle[k][l]:\n",
    "                        inversions += 1\n",
    "    return inversions % 2 == 0"
   ],
   "metadata": {
    "collapsed": false,
    "ExecuteTime": {
     "end_time": "2023-10-23T02:30:24.180304178Z",
     "start_time": "2023-10-23T02:30:24.136014947Z"
    }
   },
   "id": "f4f3dd591f08f9ab"
  },
  {
   "cell_type": "markdown",
   "source": [
    "# Graph implementation"
   ],
   "metadata": {
    "collapsed": false
   },
   "id": "a013ae7026d5ea27"
  },
  {
   "cell_type": "code",
   "execution_count": 60,
   "outputs": [],
   "source": [
    "def myPrint(string):\n",
    "    pass"
   ],
   "metadata": {
    "collapsed": false,
    "ExecuteTime": {
     "end_time": "2023-10-23T02:47:04.726639091Z",
     "start_time": "2023-10-23T02:47:04.669595482Z"
    }
   },
   "id": "79f83993aa119c4"
  },
  {
   "cell_type": "code",
   "execution_count": 61,
   "outputs": [],
   "source": [
    "class Node:\n",
    "    \n",
    "    GRID_SIZE = 3\n",
    "    \n",
    "    def __init__(self, state):\n",
    "        self.__state = copy.deepcopy(state)\n",
    "        self.__parent = None\n",
    "        self.__path = []\n",
    "        self.__children = []\n",
    "        self.__generate_children()            \n",
    "    \n",
    "    # generates all possible moves\n",
    "    def __generate_children(self):\n",
    "        self.__children = []\n",
    "        for i in range(self.GRID_SIZE):\n",
    "            for j in range(self.GRID_SIZE):\n",
    "                if self.__state[i][j] == 0:\n",
    "                    if i > 0:\n",
    "                        self.__children.append(self.swap(i, j, i - 1, j))\n",
    "                    if i < self.GRID_SIZE - 1:\n",
    "                        self.__children.append(self.swap(i, j, i + 1, j))\n",
    "                    if j > 0:\n",
    "                        self.__children.append(self.swap(i, j, i, j - 1))\n",
    "                    if j < self.GRID_SIZE - 1:\n",
    "                        self.__children.append(self.swap(i, j, i, j + 1))\n",
    "                    return self.__children\n",
    "        \n",
    "    def __str__(self):\n",
    "        return str(self.__state)    \n",
    "        \n",
    "    def __repr__(self):\n",
    "        return str(self.__state)\n",
    "    \n",
    "    # returns a state one move from the current state\n",
    "    def swap(self, x1, y1, x2, y2):\n",
    "        new_state = copy.deepcopy(self.__state)\n",
    "        new_state[x1][y1], new_state[x2][y2] = new_state[x2][y2], new_state[x1][y1] \n",
    "        return new_state\n",
    "    \n",
    "    def set_parent(self, parent):\n",
    "        self.__parent = parent\n",
    "        self.__path = parent.get_path()\n",
    "        self.__path.append(parent)\n",
    "    \n",
    "    def get_path(self):\n",
    "        return copy.copy(self.__path)\n",
    "    \n",
    "    def get_state(self):\n",
    "        return copy.deepcopy(self.__state)\n",
    "    \n",
    "    def get_children(self):\n",
    "        return copy.deepcopy(self.__children)\n",
    "    \n",
    "    def get_parent(self):\n",
    "        return self.__parent"
   ],
   "metadata": {
    "collapsed": false,
    "ExecuteTime": {
     "end_time": "2023-10-23T02:47:07.600590287Z",
     "start_time": "2023-10-23T02:47:07.545816844Z"
    }
   },
   "id": "425d20d076d6b695"
  },
  {
   "cell_type": "code",
   "execution_count": 4,
   "outputs": [],
   "source": [
    "puzzle1 = [\n",
    "    [1, 2, 3],\n",
    "    [8, 0, 4],\n",
    "    [7, 6, 5]\n",
    "]"
   ],
   "metadata": {
    "collapsed": false,
    "ExecuteTime": {
     "end_time": "2023-10-23T01:54:04.236791102Z",
     "start_time": "2023-10-23T01:54:04.085862212Z"
    }
   },
   "id": "24dafb13a74b837a"
  },
  {
   "cell_type": "code",
   "execution_count": 5,
   "outputs": [],
   "source": [
    "node = Node(puzzle1)\n",
    "visualize_puzzle(node)"
   ],
   "metadata": {
    "collapsed": false,
    "ExecuteTime": {
     "end_time": "2023-10-23T01:54:10.509955816Z",
     "start_time": "2023-10-23T01:54:10.488042728Z"
    }
   },
   "id": "3e12946d6817207d"
  },
  {
   "cell_type": "markdown",
   "source": [
    "# BFS"
   ],
   "metadata": {
    "collapsed": false
   },
   "id": "6be61a681aae688c"
  },
  {
   "cell_type": "code",
   "execution_count": 93,
   "outputs": [],
   "source": [
    "def BFS(node, target, max_nodes=10000):\n",
    "    \n",
    "    if not is_solvable(node.get_state()):\n",
    "        return None\n",
    "    \n",
    "    queue = [node]\n",
    "    visited = []\n",
    "    while queue:\n",
    "        current_node = queue.pop(0)\n",
    "        current_state = current_node.get_state()\n",
    "        visited.append(current_state)\n",
    "        \n",
    "        if current_state == target:\n",
    "            final_path = current_node.get_path()\n",
    "            final_path.append(current_node)\n",
    "            return final_path, len(visited)\n",
    "        \n",
    "        if len(visited) % 1000 == 0:\n",
    "            myPrint(f'visited nodes: {len(visited)}, queue size: {len(queue)}')\n",
    "            if len(visited) >= max_nodes:\n",
    "                return None\n",
    "        \n",
    "        for child in current_node.get_children():\n",
    "            if child not in visited:\n",
    "                child = Node(child)\n",
    "                child.set_parent(current_node)\n",
    "                queue.append(child)\n",
    "    return None"
   ],
   "metadata": {
    "collapsed": false,
    "ExecuteTime": {
     "end_time": "2023-10-23T03:19:07.438878228Z",
     "start_time": "2023-10-23T03:19:07.425389899Z"
    }
   },
   "id": "7bfe8b026bb67a7b"
  },
  {
   "cell_type": "code",
   "execution_count": 0,
   "outputs": [],
   "source": [
    "target = [\n",
    "    [0, 1, 2],\n",
    "    [3, 4, 5],\n",
    "    [6, 7, 8]\n",
    "]\n",
    "\n",
    "puzzle1 = [\n",
    "    [1, 2, 5],\n",
    "    [3, 4, 8],\n",
    "    [6, 7, 0]\n",
    "]\n",
    "node = Node(puzzle1)\n",
    "# visualize_puzzle(node)"
   ],
   "metadata": {
    "collapsed": false
   },
   "id": "89e316e34d3c1bcf"
  },
  {
   "cell_type": "code",
   "execution_count": 42,
   "outputs": [
    {
     "name": "stdout",
     "output_type": "stream",
     "text": [
      "visited nodes: 1000, queue size: 663\n",
      "visited nodes: 2000, queue size: 1160\n",
      "visited nodes: 3000, queue size: 2013\n",
      "visited nodes: 4000, queue size: 2529\n",
      "visited nodes: 5000, queue size: 2954\n",
      "visited nodes: 6000, queue size: 3555\n",
      "visited nodes: 7000, queue size: 4388\n",
      "visited nodes: 8000, queue size: 5221\n",
      "visited nodes: 9000, queue size: 5942\n",
      "visited nodes: 10000, queue size: 6287\n",
      "visited nodes: 11000, queue size: 6607\n",
      "visited nodes: 12000, queue size: 6921\n",
      "visited nodes: 13000, queue size: 7227\n",
      "visited nodes: 14000, queue size: 7565\n",
      "visited nodes: 15000, queue size: 8120\n",
      "visited nodes: 16000, queue size: 8915\n",
      "visited nodes: 17000, queue size: 9711\n",
      "visited nodes: 18000, queue size: 10496\n",
      "visited nodes: 19000, queue size: 11284\n",
      "visited nodes: 20000, queue size: 12080\n",
      "visited nodes: 21000, queue size: 12882\n",
      "visited nodes: 22000, queue size: 13667\n",
      "visited nodes: 23000, queue size: 14082\n",
      "visited nodes: 24000, queue size: 14302\n",
      "visited nodes: 25000, queue size: 14531\n",
      "visited nodes: 26000, queue size: 14786\n",
      "visited nodes: 27000, queue size: 15043\n",
      "visited nodes: 28000, queue size: 15307\n",
      "visited nodes: 29000, queue size: 15570\n",
      "visited nodes: 30000, queue size: 15822\n",
      "visited nodes: 31000, queue size: 16088\n",
      "visited nodes: 32000, queue size: 16349\n",
      "visited nodes: 33000, queue size: 16578\n",
      "visited nodes: 34000, queue size: 16831\n",
      "visited nodes: 35000, queue size: 17058\n",
      "visited nodes: 36000, queue size: 17296\n",
      "visited nodes: 37000, queue size: 17868\n",
      "visited nodes: 38000, queue size: 18599\n",
      "visited nodes: 39000, queue size: 19266\n",
      "visited nodes: 40000, queue size: 19924\n",
      "visited nodes: 41000, queue size: 20620\n"
     ]
    },
    {
     "ename": "KeyboardInterrupt",
     "evalue": "",
     "output_type": "error",
     "traceback": [
      "\u001B[0;31m---------------------------------------------------------------------------\u001B[0m",
      "\u001B[0;31mKeyboardInterrupt\u001B[0m                         Traceback (most recent call last)",
      "Cell \u001B[0;32mIn[42], line 3\u001B[0m\n\u001B[1;32m      1\u001B[0m visualize_puzzle(node)\n\u001B[1;32m      2\u001B[0m t1 \u001B[38;5;241m=\u001B[39m time\u001B[38;5;241m.\u001B[39mtime()\n\u001B[0;32m----> 3\u001B[0m path, nodes_visited \u001B[38;5;241m=\u001B[39m \u001B[43mBFS\u001B[49m\u001B[43m(\u001B[49m\u001B[43mnode\u001B[49m\u001B[43m,\u001B[49m\u001B[43m \u001B[49m\u001B[43mtarget\u001B[49m\u001B[43m)\u001B[49m\n\u001B[1;32m      4\u001B[0m t2 \u001B[38;5;241m=\u001B[39m time\u001B[38;5;241m.\u001B[39mtime()\n\u001B[1;32m      5\u001B[0m time_taken \u001B[38;5;241m=\u001B[39m t2 \u001B[38;5;241m-\u001B[39m t1\n",
      "Cell \u001B[0;32mIn[41], line 19\u001B[0m, in \u001B[0;36mBFS\u001B[0;34m(node, target)\u001B[0m\n\u001B[1;32m     17\u001B[0m \u001B[38;5;28;01mfor\u001B[39;00m child \u001B[38;5;129;01min\u001B[39;00m current_node\u001B[38;5;241m.\u001B[39mget_children():\n\u001B[1;32m     18\u001B[0m     \u001B[38;5;28;01mif\u001B[39;00m child \u001B[38;5;129;01mnot\u001B[39;00m \u001B[38;5;129;01min\u001B[39;00m visited:\n\u001B[0;32m---> 19\u001B[0m         child \u001B[38;5;241m=\u001B[39m \u001B[43mNode\u001B[49m\u001B[43m(\u001B[49m\u001B[43mchild\u001B[49m\u001B[43m)\u001B[49m\n\u001B[1;32m     20\u001B[0m         child\u001B[38;5;241m.\u001B[39mset_parent(current_node)\n\u001B[1;32m     21\u001B[0m         queue\u001B[38;5;241m.\u001B[39mappend(child)\n",
      "Cell \u001B[0;32mIn[3], line 5\u001B[0m, in \u001B[0;36mNode.__init__\u001B[0;34m(self, state)\u001B[0m\n\u001B[1;32m      1\u001B[0m \u001B[38;5;28;01mclass\u001B[39;00m \u001B[38;5;21;01mNode\u001B[39;00m:\n\u001B[1;32m      3\u001B[0m     GRID_SIZE \u001B[38;5;241m=\u001B[39m \u001B[38;5;241m3\u001B[39m\n\u001B[0;32m----> 5\u001B[0m     \u001B[38;5;28;01mdef\u001B[39;00m \u001B[38;5;21m__init__\u001B[39m(\u001B[38;5;28mself\u001B[39m, state):\n\u001B[1;32m      6\u001B[0m         \u001B[38;5;28mself\u001B[39m\u001B[38;5;241m.\u001B[39m__state \u001B[38;5;241m=\u001B[39m copy\u001B[38;5;241m.\u001B[39mdeepcopy(state)\n\u001B[1;32m      7\u001B[0m         \u001B[38;5;28mself\u001B[39m\u001B[38;5;241m.\u001B[39m__parent \u001B[38;5;241m=\u001B[39m \u001B[38;5;28;01mNone\u001B[39;00m\n",
      "\u001B[0;31mKeyboardInterrupt\u001B[0m: "
     ]
    }
   ],
   "source": [
    "visualize_puzzle(node)\n",
    "t1 = time.time()\n",
    "path, nodes_visited = BFS(node, target)\n",
    "t2 = time.time()\n",
    "time_taken = t2 - t1\n",
    "f'visited nodes: {len(nodes_visited)}, path length: {len(path)}, time taken: {time_taken}'"
   ],
   "metadata": {
    "collapsed": false,
    "ExecuteTime": {
     "end_time": "2023-10-23T02:23:54.840224129Z",
     "start_time": "2023-10-23T02:17:46.237574023Z"
    }
   },
   "id": "5379bded18706dd5"
  },
  {
   "cell_type": "code",
   "execution_count": 8,
   "outputs": [],
   "source": [
    "visualize_path(path)"
   ],
   "metadata": {
    "collapsed": false,
    "ExecuteTime": {
     "end_time": "2023-10-23T01:54:32.325272789Z",
     "start_time": "2023-10-23T01:54:27.315388152Z"
    }
   },
   "id": "47f81c20ff792aa1"
  },
  {
   "cell_type": "markdown",
   "source": [
    "# DFS"
   ],
   "metadata": {
    "collapsed": false
   },
   "id": "b09d97c4dd55be40"
  },
  {
   "cell_type": "code",
   "execution_count": 94,
   "outputs": [],
   "source": [
    "def DFS(node, target, max_nodes=10000):\n",
    "    if not is_solvable(node.get_state()):\n",
    "        return None\n",
    "    \n",
    "    stack = [node]\n",
    "    visited = []\n",
    "    while stack:\n",
    "        current_node = stack.pop()\n",
    "        current_state = current_node.get_state()\n",
    "        visited.append(current_state)\n",
    "        \n",
    "        if current_state == target:\n",
    "            final_path = current_node.get_path()\n",
    "            final_path.append(current_node)\n",
    "            return final_path, len(visited)\n",
    "        \n",
    "        if len(visited) % 1000 == 0:\n",
    "            myPrint(f'visited nodes: {len(visited)}, stack size: {len(stack)}')\n",
    "            if len(visited) >= max_nodes:\n",
    "                return None\n",
    "            \n",
    "        for child in current_node.get_children():\n",
    "            if child not in visited:\n",
    "                child = Node(child)\n",
    "                child.set_parent(current_node)\n",
    "                stack.append(child)\n",
    "    return None"
   ],
   "metadata": {
    "collapsed": false,
    "ExecuteTime": {
     "end_time": "2023-10-23T03:19:10.026647592Z",
     "start_time": "2023-10-23T03:19:10.018387222Z"
    }
   },
   "id": "be372ca149a6dfae"
  },
  {
   "cell_type": "code",
   "execution_count": 0,
   "outputs": [],
   "source": [
    "target = [\n",
    "    [0, 1, 2],\n",
    "    [3, 4, 5],\n",
    "    [6, 7, 8]\n",
    "]\n",
    "\n",
    "puzzle1 = [\n",
    "    [1, 2, 5],\n",
    "    [6, 3, 4],\n",
    "    [7, 8, 0]\n",
    "]\n",
    "node = Node(puzzle1)\n",
    "# visualize_puzzle(node)"
   ],
   "metadata": {
    "collapsed": false
   },
   "id": "a2ea3c99b0edc68c"
  },
  {
   "cell_type": "code",
   "execution_count": 38,
   "outputs": [
    {
     "name": "stdout",
     "output_type": "stream",
     "text": [
      "visited nodes: 1000, stack size: 746\n",
      "visited nodes: 2000, stack size: 1485\n",
      "visited nodes: 3000, stack size: 2218\n",
      "visited nodes: 4000, stack size: 2935\n",
      "visited nodes: 5000, stack size: 3670\n",
      "visited nodes: 6000, stack size: 4421\n",
      "visited nodes: 7000, stack size: 5161\n",
      "visited nodes: 8000, stack size: 5886\n",
      "visited nodes: 9000, stack size: 6606\n"
     ]
    },
    {
     "data": {
      "text/plain": "'visited nodes: 9598, path length: 9397, time taken: 15.876030683517456'"
     },
     "execution_count": 38,
     "metadata": {},
     "output_type": "execute_result"
    }
   ],
   "source": [
    "t1 = time.time()\n",
    "path, nodes_visited = DFS(node, target)\n",
    "t2 = time.time()\n",
    "time_taken = t2 - t1\n",
    "\n",
    "f'visited nodes: {nodes_visited}, path length: {len(path)}, time taken: {time_taken}'"
   ],
   "metadata": {
    "collapsed": false,
    "ExecuteTime": {
     "end_time": "2023-10-23T02:14:48.348013553Z",
     "start_time": "2023-10-23T02:14:32.472060715Z"
    }
   },
   "id": "849e7302c12e106a"
  },
  {
   "cell_type": "code",
   "execution_count": 35,
   "outputs": [
    {
     "ename": "KeyboardInterrupt",
     "evalue": "",
     "output_type": "error",
     "traceback": [
      "\u001B[0;31m---------------------------------------------------------------------------\u001B[0m",
      "\u001B[0;31mKeyboardInterrupt\u001B[0m                         Traceback (most recent call last)",
      "Cell \u001B[0;32mIn[35], line 1\u001B[0m\n\u001B[0;32m----> 1\u001B[0m \u001B[43mvisualize_path\u001B[49m\u001B[43m(\u001B[49m\u001B[43mpath\u001B[49m\u001B[43m)\u001B[49m\n",
      "Cell \u001B[0;32mIn[2], line 36\u001B[0m, in \u001B[0;36mvisualize_path\u001B[0;34m(path)\u001B[0m\n\u001B[1;32m     34\u001B[0m \u001B[38;5;28;01mfor\u001B[39;00m puzzle \u001B[38;5;129;01min\u001B[39;00m path:\n\u001B[1;32m     35\u001B[0m     visualize_puzzle(puzzle)\n\u001B[0;32m---> 36\u001B[0m     \u001B[43mtime\u001B[49m\u001B[38;5;241;43m.\u001B[39;49m\u001B[43msleep\u001B[49m\u001B[43m(\u001B[49m\u001B[38;5;241;43m1\u001B[39;49m\u001B[43m)\u001B[49m\n",
      "\u001B[0;31mKeyboardInterrupt\u001B[0m: "
     ]
    }
   ],
   "source": [
    "visualize_path(path)"
   ],
   "metadata": {
    "collapsed": false,
    "ExecuteTime": {
     "end_time": "2023-10-23T02:14:07.647758323Z",
     "start_time": "2023-10-23T02:11:54.742001774Z"
    }
   },
   "id": "558e4cd9f3d22626"
  },
  {
   "cell_type": "markdown",
   "source": [
    "# A*"
   ],
   "metadata": {
    "collapsed": false
   },
   "id": "c2da9a192e7ac2df"
  },
  {
   "cell_type": "code",
   "execution_count": 12,
   "outputs": [],
   "source": [
    "import heapq"
   ],
   "metadata": {
    "collapsed": false,
    "ExecuteTime": {
     "end_time": "2023-10-23T01:54:52.972076137Z",
     "start_time": "2023-10-23T01:54:52.960666032Z"
    }
   },
   "id": "44e0bc27bceef551"
  },
  {
   "cell_type": "code",
   "execution_count": 15,
   "outputs": [],
   "source": [
    "def manhatten_estimate_cost(state):\n",
    "    cost = 0\n",
    "    for i in range(len(state)):\n",
    "        for j in range(len(state)):\n",
    "            value = state[i][j]\n",
    "            if value != 0:\n",
    "                target_row, target_col = value // 3, value % 3\n",
    "                cost += abs(i - target_row) + abs(j - target_col)\n",
    "    return cost"
   ],
   "metadata": {
    "collapsed": false,
    "ExecuteTime": {
     "end_time": "2023-10-23T01:55:06.759063898Z",
     "start_time": "2023-10-23T01:55:06.757136686Z"
    }
   },
   "id": "5ad7dbf5577dabd6"
  },
  {
   "cell_type": "code",
   "execution_count": 16,
   "outputs": [],
   "source": [
    "def eaclidean_estimate_cost(state):\n",
    "    cost = 0\n",
    "    for i in range(len(state)):\n",
    "        for j in range(len(state)):\n",
    "            value = state[i][j]\n",
    "            if value != 0:\n",
    "                target_row, target_col = value // 3, value % 3\n",
    "                cost += ((i - target_row)**2 + (j - target_col)**2)**0.5\n",
    "    return cost"
   ],
   "metadata": {
    "collapsed": false,
    "ExecuteTime": {
     "end_time": "2023-10-23T01:55:07.624243644Z",
     "start_time": "2023-10-23T01:55:07.612349631Z"
    }
   },
   "id": "14634379fb6ec4ad"
  },
  {
   "cell_type": "code",
   "execution_count": 113,
   "outputs": [],
   "source": [
    "def a_star(node, target, estimate_function=manhatten_estimate_cost, max_nodes=100000):\n",
    "    if not is_solvable(node.get_state()):\n",
    "        return None\n",
    "    \n",
    "    # Q values are tuples (weight, insert_order, node). insert order is used to break ties\n",
    "    queue = [(0, 0, node)]\n",
    "    \n",
    "    # Q inserts counter\n",
    "    i = 1\n",
    "    \n",
    "    visited = []\n",
    "    while queue:\n",
    "        \n",
    "        # pop the node with the lowest weight\n",
    "        current_node = heapq.heappop(queue)[-1]\n",
    "        current_state = current_node.get_state()\n",
    "        visited.append(current_state)\n",
    "        \n",
    "        # check if goal state is reached\n",
    "        if current_state == target:\n",
    "            final_path = current_node.get_path()\n",
    "            final_path.append(current_node)\n",
    "            return final_path, len(visited)\n",
    "        \n",
    "        if len(visited) % 1000 == 0:\n",
    "            myPrint(f'visited nodes: {len(visited)}, queue size: {len(queue)}')\n",
    "            if len(visited) >= max_nodes:\n",
    "                print(\"max nodes reached\")\n",
    "                return None\n",
    "        \n",
    "        for child in current_node.get_children():\n",
    "            if child not in visited:\n",
    "                child = Node(child)\n",
    "                child.set_parent(current_node)\n",
    "                \n",
    "                # calculate weight by adding the manhatten distance to goal and the path length\n",
    "                h_n = len(child.get_path())\n",
    "                g_n = manhatten_estimate_cost(child.get_state())\n",
    "                weight = h_n + g_n\n",
    "                \n",
    "                # push to priority queue\n",
    "                heapq.heappush(queue, (weight, i, child))\n",
    "                i+=1\n",
    "    return None"
   ],
   "metadata": {
    "collapsed": false,
    "ExecuteTime": {
     "end_time": "2023-10-23T03:36:26.721633198Z",
     "start_time": "2023-10-23T03:36:26.679272324Z"
    }
   },
   "id": "e7a1239ecd25251b"
  },
  {
   "cell_type": "code",
   "execution_count": 49,
   "outputs": [],
   "source": [
    "target = [\n",
    "    [0, 1, 2],\n",
    "    [3, 4, 5],\n",
    "    [6, 7, 8]\n",
    "]\n",
    "\n",
    "puzzle1 = [\n",
    "    [0, 1, 2],\n",
    "    [5, 3, 4],\n",
    "    [8, 6, 7]\n",
    "]\n",
    "node = Node(puzzle1)\n",
    "visualize_puzzle(node)"
   ],
   "metadata": {
    "collapsed": false,
    "ExecuteTime": {
     "end_time": "2023-10-23T02:32:31.771470251Z",
     "start_time": "2023-10-23T02:32:31.763422668Z"
    }
   },
   "id": "4bd84c068dd4ba1e"
  },
  {
   "cell_type": "code",
   "execution_count": 109,
   "outputs": [
    {
     "data": {
      "text/plain": "'visited nodes: 1640, path length: 23, time taken: 0.8945496082305908'"
     },
     "execution_count": 109,
     "metadata": {},
     "output_type": "execute_result"
    }
   ],
   "source": [
    "t = time.time()\n",
    "path, visited_nodes = a_star(node1, target, estimate_function=manhatten_estimate_cost)\n",
    "t2 = time.time()\n",
    "time_taken = t2 - t\n",
    "# visualize_path(path)\n",
    "f'visited nodes: {visited_nodes}, path length: {len(path)}, time taken: {time_taken}' "
   ],
   "metadata": {
    "collapsed": false,
    "ExecuteTime": {
     "end_time": "2023-10-23T03:33:44.719869102Z",
     "start_time": "2023-10-23T03:33:43.815546472Z"
    }
   },
   "id": "165381712bce06db"
  },
  {
   "cell_type": "code",
   "execution_count": 55,
   "outputs": [
    {
     "name": "stdout",
     "output_type": "stream",
     "text": [
      "visited nodes: 1000, queue size: 616\n"
     ]
    },
    {
     "data": {
      "text/plain": "'visited nodes: 1640, path length: 23, time taken: 0.6085848808288574'"
     },
     "execution_count": 55,
     "metadata": {},
     "output_type": "execute_result"
    }
   ],
   "source": [
    "t = time.time()\n",
    "path, visited_nodes = a_star(node, target, estimate_function=eaclidean_estimate_cost)\n",
    "t2 = time.time()\n",
    "time_taken = t2 - t\n",
    "\n",
    "# visualize_path(path)\n",
    "f'visited nodes: {visited_nodes}, path length: {len(path)}, time taken: {time_taken}' "
   ],
   "metadata": {
    "collapsed": false,
    "ExecuteTime": {
     "end_time": "2023-10-23T02:32:59.150942015Z",
     "start_time": "2023-10-23T02:32:58.555383492Z"
    }
   },
   "id": "ac362487814480ee"
  },
  {
   "cell_type": "markdown",
   "source": [
    "# Benchmarking"
   ],
   "metadata": {
    "collapsed": false
   },
   "id": "46661267083eca99"
  },
  {
   "cell_type": "code",
   "execution_count": 128,
   "outputs": [],
   "source": [
    "def manhatten_A_star(path, target):\n",
    "    return a_star(path, target, estimate_function=manhatten_estimate_cost)\n",
    "    \n",
    "def eaclidean_A_star(path, target):\n",
    "    return a_star(path, target, estimate_function=eaclidean_estimate_cost)\n",
    "    "
   ],
   "metadata": {
    "collapsed": false,
    "ExecuteTime": {
     "end_time": "2023-10-23T03:43:24.836224774Z",
     "start_time": "2023-10-23T03:43:24.823579587Z"
    }
   },
   "id": "98716730155162ec"
  },
  {
   "cell_type": "code",
   "execution_count": 127,
   "outputs": [],
   "source": [
    "def time_algorithms(node, target):\n",
    "    algorithms = [BFS, DFS, manhatten_A_star, eaclidean_A_star]\n",
    "    times = [[] for _ in range(len(algorithms))]\n",
    "    for i in range(len(algorithms)):\n",
    "        for _ in range(10):\n",
    "            t = time.time()\n",
    "            ret = algorithms[i](node, target)\n",
    "            t2 = time.time()\n",
    "            time_taken = t2 - t\n",
    "            if time_taken > 60 or ret == None:\n",
    "                times[i] = [-1]\n",
    "                break\n",
    "            times[i].append(time_taken)\n",
    "            \n",
    "    avg_times = [sum(time) / len(time) for time in times]\n",
    "    return avg_times"
   ],
   "metadata": {
    "collapsed": false,
    "ExecuteTime": {
     "end_time": "2023-10-23T03:43:22.342657409Z",
     "start_time": "2023-10-23T03:43:22.284073713Z"
    }
   },
   "id": "267d05d469db08e6"
  },
  {
   "cell_type": "code",
   "execution_count": 71,
   "outputs": [],
   "source": [
    "puzzle1 = [\n",
    "    [1, 2, 5],\n",
    "    [3, 4, 8],\n",
    "    [0, 6, 7]\n",
    "]\n",
    "node = Node(puzzle1)\n",
    "visualize_puzzle(node)"
   ],
   "metadata": {
    "collapsed": false,
    "ExecuteTime": {
     "start_time": "2023-10-23T03:08:29.315560952Z"
    }
   },
   "id": "839c72e364f5c923"
  },
  {
   "cell_type": "code",
   "execution_count": 124,
   "outputs": [
    {
     "data": {
      "text/plain": "([0.011474609375,\n  0.41716599464416504,\n  0.006886959075927734,\n  0.0015969276428222656],\n [[0.011474609375],\n  [0.41716599464416504],\n  [0.006886959075927734],\n  [0.0015969276428222656]])"
     },
     "execution_count": 124,
     "metadata": {},
     "output_type": "execute_result"
    }
   ],
   "source": [
    "t = time_algorithms(node, target)\n",
    "t"
   ],
   "metadata": {
    "collapsed": false,
    "ExecuteTime": {
     "end_time": "2023-10-23T03:41:55.193728980Z",
     "start_time": "2023-10-23T03:41:54.739212888Z"
    }
   },
   "id": "70d0c683db761985"
  },
  {
   "cell_type": "code",
   "execution_count": 125,
   "outputs": [],
   "source": [
    "puzzle1 = [\n",
    "    [0, 1, 2],\n",
    "    [5, 3, 4],\n",
    "    [8, 6, 7]\n",
    "]\n",
    "node1 = Node(puzzle1)\n",
    "visualize_puzzle(node)"
   ],
   "metadata": {
    "collapsed": false,
    "ExecuteTime": {
     "end_time": "2023-10-23T03:41:57.759485887Z",
     "start_time": "2023-10-23T03:41:57.749601831Z"
    }
   },
   "id": "475adddfc377d7d7"
  },
  {
   "cell_type": "code",
   "execution_count": 129,
   "outputs": [
    {
     "data": {
      "text/plain": "[-1.0, 16.80165731906891, 0.7685029983520508, 0.7607854843139649]"
     },
     "execution_count": 129,
     "metadata": {},
     "output_type": "execute_result"
    }
   ],
   "source": [
    "t = time_algorithms(node1, target)\n",
    "t"
   ],
   "metadata": {
    "collapsed": false,
    "ExecuteTime": {
     "end_time": "2023-10-23T03:46:43.905924119Z",
     "start_time": "2023-10-23T03:43:27.143507164Z"
    }
   },
   "id": "82bf9f3379628575"
  }
 ],
 "metadata": {
  "kernelspec": {
   "display_name": "Python 3",
   "language": "python",
   "name": "python3"
  },
  "language_info": {
   "codemirror_mode": {
    "name": "ipython",
    "version": 2
   },
   "file_extension": ".py",
   "mimetype": "text/x-python",
   "name": "python",
   "nbconvert_exporter": "python",
   "pygments_lexer": "ipython2",
   "version": "2.7.6"
  }
 },
 "nbformat": 4,
 "nbformat_minor": 5
}
